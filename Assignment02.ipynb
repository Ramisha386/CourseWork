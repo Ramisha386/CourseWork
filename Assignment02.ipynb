{
 "cells": [
  {
   "cell_type": "markdown",
   "id": "185c6d5b-b29c-41ee-892b-8cb777f1e085",
   "metadata": {},
   "source": [
    "## Assignemnent 02"
   ]
  },
  {
   "cell_type": "markdown",
   "id": "7c26fc34-d3f3-4de8-b939-9a94975453f9",
   "metadata": {},
   "source": [
    "### Problem 1"
   ]
  },
  {
   "cell_type": "code",
   "execution_count": 6,
   "id": "133258e1-a4bb-4538-9f5b-d5a297d6b85f",
   "metadata": {},
   "outputs": [
    {
     "name": "stdin",
     "output_type": "stream",
     "text": [
      " 3\n",
      " 77\n"
     ]
    },
    {
     "name": "stdout",
     "output_type": "stream",
     "text": [
      "value of x= 3 and value of y= 77 before swapping\n",
      "value of x= 77 and value of y= 3 after swapping\n"
     ]
    }
   ],
   "source": [
    "x=int(input())\n",
    "y=int(input())\n",
    "print(\"value of x=\",x, \"and value of y=\",y,\"before swapping\")\n",
    "x=x+y\n",
    "y=x-y\n",
    "x=x-y\n",
    "print(\"value of x=\",x, \"and value of y=\",y,\"after swapping\")"
   ]
  },
  {
   "cell_type": "markdown",
   "id": "9b9622fa-9d8f-4b96-973f-5f23763bc18f",
   "metadata": {},
   "source": [
    "### Problem 2"
   ]
  },
  {
   "cell_type": "code",
   "execution_count": 8,
   "id": "4a873f50-be57-4b5c-acfd-38937d775da3",
   "metadata": {},
   "outputs": [
    {
     "name": "stdin",
     "output_type": "stream",
     "text": [
      "Lenght of the rectangle 4\n",
      "Breadth of the rectangle 3\n"
     ]
    },
    {
     "name": "stdout",
     "output_type": "stream",
     "text": [
      "Area of the rectangle is 12\n"
     ]
    }
   ],
   "source": [
    "l=int(input(\"Lenght of the rectangle\"))\n",
    "b=int(input(\"Breadth of the rectangle\"))\n",
    "print(\"Area of the rectangle is {}\".format(l*b))"
   ]
  },
  {
   "cell_type": "markdown",
   "id": "39c40349-65a5-487b-8cbf-519f421f96f0",
   "metadata": {},
   "source": [
    "### Problem 3"
   ]
  },
  {
   "cell_type": "code",
   "execution_count": 14,
   "id": "312563fc-7105-4c5d-b18b-1f30a8514601",
   "metadata": {},
   "outputs": [
    {
     "name": "stdin",
     "output_type": "stream",
     "text": [
      "Enter temperature in Fahrenheit degree:  445\n"
     ]
    },
    {
     "name": "stdout",
     "output_type": "stream",
     "text": [
      "Temperature converted into Celsius degree 229.4444\n"
     ]
    }
   ],
   "source": [
    "f=int(input(\"Enter temperature in Fahrenheit degree: \"))\n",
    "print(\"Temperature converted into Celsius degree {:.4f}\".format(((f-32)/9)*5))"
   ]
  },
  {
   "cell_type": "markdown",
   "id": "ddc0b505-4d1f-4f79-a35a-86105c8de7a0",
   "metadata": {},
   "source": [
    "### Probem 4"
   ]
  },
  {
   "cell_type": "code",
   "execution_count": 10,
   "id": "10795639-5d6a-447f-a6f1-5be2d38e8936",
   "metadata": {},
   "outputs": [
    {
     "name": "stdin",
     "output_type": "stream",
     "text": [
      "Radius of the Sphere:  4\n"
     ]
    },
    {
     "name": "stdout",
     "output_type": "stream",
     "text": [
      "Volume of the Sphere 268.0832\n"
     ]
    }
   ],
   "source": [
    "r=int(input(\"Radius of the Sphere: \"))\n",
    "print(\"Volume of the Sphere {:.4f}\".format((4*3.1416*r*r*r)/3))"
   ]
  },
  {
   "cell_type": "markdown",
   "id": "d1d8a35b-e5d6-4f22-b3dc-fd92c557b0bf",
   "metadata": {},
   "source": [
    "### Problem 5"
   ]
  },
  {
   "cell_type": "code",
   "execution_count": 13,
   "id": "1d2e86da-6ac6-47ba-9d26-c9c5206ac95d",
   "metadata": {},
   "outputs": [
    {
     "name": "stdin",
     "output_type": "stream",
     "text": [
      "Input 1st number:  5\n",
      "Input 2nd number:  5\n",
      "Input 3rd number:  3\n"
     ]
    },
    {
     "name": "stdout",
     "output_type": "stream",
     "text": [
      "Average of the three numbers 4.33\n"
     ]
    }
   ],
   "source": [
    "a=int(input(\"Input 1st number: \"))\n",
    "b=int(input(\"Input 2nd number: \"))\n",
    "c=int(input(\"Input 3rd number: \")) \n",
    "print(\"Average of the three numbers {:.2f}\".format((a+b+c)/3))"
   ]
  },
  {
   "cell_type": "markdown",
   "id": "066e9525-b325-47cd-97d2-87b95557ed70",
   "metadata": {},
   "source": [
    "### Problem 6"
   ]
  },
  {
   "cell_type": "code",
   "execution_count": 16,
   "id": "b986ffbe-e82c-4538-9593-7992b0fa27e3",
   "metadata": {},
   "outputs": [
    {
     "name": "stdin",
     "output_type": "stream",
     "text": [
      "Input a number:  4\n"
     ]
    },
    {
     "name": "stdout",
     "output_type": "stream",
     "text": [
      "4 is an even number\n"
     ]
    }
   ],
   "source": [
    "n=int(input(\"Input a number: \"))\n",
    "if n%2==0:\n",
    "    print(n,\"is an even number\")\n",
    "else:\n",
    "    print(n,\"is a odd number\")"
   ]
  },
  {
   "cell_type": "markdown",
   "id": "f6c99bf1-7446-4837-a0f4-1bd52a78599d",
   "metadata": {},
   "source": [
    "### Problem 7"
   ]
  },
  {
   "cell_type": "code",
   "execution_count": 18,
   "id": "cf5825a3-7235-427d-86e5-9f0b1b3a21b6",
   "metadata": {},
   "outputs": [
    {
     "name": "stdin",
     "output_type": "stream",
     "text": [
      "Input 1st number:  9\n",
      "Input 2nd number:  7\n",
      "Input 3rd number:  3\n"
     ]
    },
    {
     "name": "stdout",
     "output_type": "stream",
     "text": [
      "a = 9 is the greatest number \n"
     ]
    }
   ],
   "source": [
    "a=int(input(\"Input 1st number: \"))\n",
    "b=int(input(\"Input 2nd number: \"))\n",
    "c=int(input(\"Input 3rd number: \"))\n",
    "if (a>b) and (a>c):\n",
    "    print(\"a = {} is the greatest number \".format(a))\n",
    "elif (b>a) and (b>c):\n",
    "    print(\"b = {} is the greatest number \".format(b))\n",
    "else:\n",
    "    print(\"c = {} is the greatest number \".format(c))"
   ]
  },
  {
   "cell_type": "markdown",
   "id": "3390ffb6-8caa-4001-ba37-d3f58e8f4045",
   "metadata": {},
   "source": [
    "### Problem 8"
   ]
  },
  {
   "cell_type": "code",
   "execution_count": 20,
   "id": "8d179925-8822-426c-a011-ef8a1906590b",
   "metadata": {},
   "outputs": [
    {
     "name": "stdin",
     "output_type": "stream",
     "text": [
      "Enter a year  1000\n"
     ]
    },
    {
     "name": "stdout",
     "output_type": "stream",
     "text": [
      "1000  is not a leap year\n"
     ]
    }
   ],
   "source": [
    "year=int(input(\"Enter a year \"))\n",
    "if (year%400==0) or ((year%4==0) and (year%100!=0)):\n",
    "    print(year,\" is a leap year\")\n",
    "else:\n",
    "    print(year,\" is not a leap year\")"
   ]
  },
  {
   "cell_type": "markdown",
   "id": "d96667d6-d803-4679-b6af-22f556495817",
   "metadata": {},
   "source": [
    "### Problem 9"
   ]
  },
  {
   "cell_type": "code",
   "execution_count": 23,
   "id": "cf308901-64c2-4eed-93db-cd28d7a99a22",
   "metadata": {},
   "outputs": [
    {
     "name": "stdin",
     "output_type": "stream",
     "text": [
      "Input a number:  -9\n"
     ]
    },
    {
     "name": "stdout",
     "output_type": "stream",
     "text": [
      "-9 is a negative number\n"
     ]
    }
   ],
   "source": [
    "n=int(input(\"Input a number: \"))\n",
    "if n==0:\n",
    "    print(n,\"is zero\")\n",
    "elif (n>0):\n",
    "    print(n,\"is a positive number\")\n",
    "else:\n",
    "    print(n,\"is a negative number\")"
   ]
  },
  {
   "cell_type": "markdown",
   "id": "9718f777-f255-452e-ae47-ebcba90d7dd2",
   "metadata": {},
   "source": [
    "### Problem 10"
   ]
  },
  {
   "cell_type": "code",
   "execution_count": 25,
   "id": "fef893d7-9f29-420d-b3f2-383be7b8335d",
   "metadata": {},
   "outputs": [
    {
     "name": "stdin",
     "output_type": "stream",
     "text": [
      "Enter the percentage:  34\n"
     ]
    },
    {
     "name": "stdout",
     "output_type": "stream",
     "text": [
      "F\n"
     ]
    }
   ],
   "source": [
    "percentage = float(input(\"Enter the percentage: \"))\n",
    "if percentage >= 80:\n",
    "    print(\"A+\")\n",
    "elif percentage >= 70:\n",
    "    print(\"B\")\n",
    "elif percentage >= 60:\n",
    "    print(\"C\")\n",
    "elif percentage >= 50:\n",
    "    print(\"D\")\n",
    "else:\n",
    "    print(\"F\")"
   ]
  },
  {
   "cell_type": "markdown",
   "id": "6dcb5728-6ae0-413c-a0a6-7642959383ca",
   "metadata": {},
   "source": [
    "### Problem 11 "
   ]
  },
  {
   "cell_type": "code",
   "execution_count": 28,
   "id": "9fe41699-3902-4a35-ac63-2062b0aeb742",
   "metadata": {},
   "outputs": [
    {
     "name": "stdin",
     "output_type": "stream",
     "text": [
      "Input a number:  6\n"
     ]
    },
    {
     "name": "stdout",
     "output_type": "stream",
     "text": [
      "1\n",
      "2\n",
      "3\n",
      "4\n",
      "5\n",
      "6\n"
     ]
    }
   ],
   "source": [
    "n=int(input(\"Input a number: \"))\n",
    "for i in range (0,n,1):\n",
    "    print(i+1)"
   ]
  },
  {
   "cell_type": "markdown",
   "id": "cfa1123b-ee49-480c-8d81-b62be845cd21",
   "metadata": {},
   "source": [
    "### Problem 12"
   ]
  },
  {
   "cell_type": "code",
   "execution_count": 33,
   "id": "ce5c83fe-99fe-4e3a-89b8-14afd14f21ef",
   "metadata": {},
   "outputs": [
    {
     "name": "stdin",
     "output_type": "stream",
     "text": [
      "Input a number:  5\n"
     ]
    },
    {
     "name": "stdout",
     "output_type": "stream",
     "text": [
      "120\n"
     ]
    }
   ],
   "source": [
    "n=int(input(\"Input a number: \"))\n",
    "f=1;\n",
    "for i in range (n):\n",
    "    f=f*(i+1)\n",
    "print(f)"
   ]
  },
  {
   "cell_type": "markdown",
   "id": "ff74749e-353e-42c1-8d0c-18204f437f56",
   "metadata": {},
   "source": [
    "### Problem 13"
   ]
  },
  {
   "cell_type": "code",
   "execution_count": 39,
   "id": "4a3699d9-26db-4eb1-bbf3-d411468b3461",
   "metadata": {},
   "outputs": [
    {
     "name": "stdin",
     "output_type": "stream",
     "text": [
      "Input a number:  8\n"
     ]
    },
    {
     "name": "stdout",
     "output_type": "stream",
     "text": [
      "0 1 1 2 3 5 8 13 "
     ]
    }
   ],
   "source": [
    "n=int(input(\"Input a number: \"))\n",
    "a=0\n",
    "b=1\n",
    "if(n>=1):\n",
    "    print(a, end=\" \")\n",
    "if(n>=2):\n",
    "    print(b, end=\" \")\n",
    "if(n>2):\n",
    "    for i in range (n-2):\n",
    "        print(a+b, end=\" \")\n",
    "        c=a\n",
    "        a=b\n",
    "        b=c+b"
   ]
  },
  {
   "cell_type": "markdown",
   "id": "4ce6b89d-99e5-4038-964e-16a72f93d7ea",
   "metadata": {},
   "source": [
    "### Problem 14"
   ]
  },
  {
   "cell_type": "code",
   "execution_count": 47,
   "id": "6e10c60b-32cb-4ac1-a2c4-d4eabca3b330",
   "metadata": {},
   "outputs": [
    {
     "name": "stdin",
     "output_type": "stream",
     "text": [
      "Input a number:  55\n"
     ]
    },
    {
     "name": "stdout",
     "output_type": "stream",
     "text": [
      "55  is not a prime number\n"
     ]
    }
   ],
   "source": [
    "n=int(input(\"Input a number: \"))\n",
    "flag=1;\n",
    "if(n==2 or n==3):\n",
    "    print(n,\" is a prime number\")\n",
    "elif (n>3):\n",
    "    for i in range (2,int(n/2)):\n",
    "        if(n%i==0):\n",
    "            print(n,\" is not a prime number\")\n",
    "            flag=0\n",
    "            break\n",
    "    if(flag==1):\n",
    "        print(n,\" is a prime number\")    "
   ]
  },
  {
   "cell_type": "markdown",
   "id": "9b9108ba-2053-4f7a-ab5e-648edefb449c",
   "metadata": {},
   "source": [
    "### Problem 15"
   ]
  },
  {
   "cell_type": "code",
   "execution_count": 51,
   "id": "adda399c-231e-4ff8-a0cd-c248ac25ac5a",
   "metadata": {},
   "outputs": [
    {
     "name": "stdin",
     "output_type": "stream",
     "text": [
      "Input a number:  4\n"
     ]
    },
    {
     "name": "stdout",
     "output_type": "stream",
     "text": [
      "4 x 1 = 4\n",
      "4 x 2 = 8\n",
      "4 x 3 = 12\n",
      "4 x 4 = 16\n",
      "4 x 5 = 20\n",
      "4 x 6 = 24\n",
      "4 x 7 = 28\n",
      "4 x 8 = 32\n",
      "4 x 9 = 36\n",
      "4 x 10 = 40\n"
     ]
    }
   ],
   "source": [
    "n=int(input(\"Input a number: \"))\n",
    "for i in range (1, 11):\n",
    "    print(\"{} x {} = {}\".format(n,i,n*i))"
   ]
  },
  {
   "cell_type": "markdown",
   "id": "89256f4b-614b-44f7-84d0-57e346dc6d47",
   "metadata": {},
   "source": [
    "### Problem 16"
   ]
  },
  {
   "cell_type": "code",
   "execution_count": 55,
   "id": "baafc131-ad2c-452c-868a-55d76127197e",
   "metadata": {},
   "outputs": [
    {
     "name": "stdin",
     "output_type": "stream",
     "text": [
      "Input a number:  8\n"
     ]
    },
    {
     "name": "stdout",
     "output_type": "stream",
     "text": [
      "20\n"
     ]
    }
   ],
   "source": [
    "n=int(input(\"Input a number: \"))\n",
    "i=2\n",
    "sum=0\n",
    "while i<=n:\n",
    "    sum=sum+i\n",
    "    i=i+2\n",
    "print(sum)"
   ]
  },
  {
   "cell_type": "markdown",
   "id": "028430aa-5ecd-4602-8f78-cab6ca0436fd",
   "metadata": {},
   "source": [
    "### Problem 17"
   ]
  },
  {
   "cell_type": "code",
   "execution_count": 61,
   "id": "9995a1a6-3be4-4c71-94d4-9922f9bd5e1d",
   "metadata": {},
   "outputs": [
    {
     "name": "stdin",
     "output_type": "stream",
     "text": [
      "Input a number:  12423\n"
     ]
    },
    {
     "name": "stdout",
     "output_type": "stream",
     "text": [
      "32421\n"
     ]
    }
   ],
   "source": [
    "n=int(input(\"Input a number: \"))\n",
    "new=0;\n",
    "while(n>0):\n",
    "    new=new*10\n",
    "    r=n%10\n",
    "    new=new+r\n",
    "    n=int(n/10)\n",
    "print(new)"
   ]
  },
  {
   "cell_type": "markdown",
   "id": "0259c316-bc73-42a7-9e33-1d57e13d09d6",
   "metadata": {},
   "source": [
    "### Problem 18"
   ]
  },
  {
   "cell_type": "code",
   "execution_count": 64,
   "id": "a135c04b-4854-4e94-a46e-97244c143599",
   "metadata": {},
   "outputs": [
    {
     "name": "stdin",
     "output_type": "stream",
     "text": [
      "Enter a string:  racecar\n"
     ]
    },
    {
     "name": "stdout",
     "output_type": "stream",
     "text": [
      "racecar  is a palindrome \n"
     ]
    }
   ],
   "source": [
    "string=input(\"Enter a string: \")\n",
    "new=string[::-1]\n",
    "if(string==new):\n",
    "    print(string, \" is a palindrome \")\n",
    "else:\n",
    "    print(string, \" is not a palindrome \")"
   ]
  },
  {
   "cell_type": "markdown",
   "id": "89896a57-795c-410d-b4d0-ea6e6a2ddc32",
   "metadata": {},
   "source": [
    "### Problem 19"
   ]
  },
  {
   "cell_type": "code",
   "execution_count": 4,
   "id": "0e3b154b-5d9b-4088-90dc-b365e14c04b3",
   "metadata": {},
   "outputs": [
    {
     "name": "stdin",
     "output_type": "stream",
     "text": [
      "Guess the number (between 1 and 100):  45\n"
     ]
    },
    {
     "name": "stdout",
     "output_type": "stream",
     "text": [
      "Too low! Try again.\n"
     ]
    },
    {
     "name": "stdin",
     "output_type": "stream",
     "text": [
      "Guess the number (between 1 and 100):  68\n"
     ]
    },
    {
     "name": "stdout",
     "output_type": "stream",
     "text": [
      "Too low! Try again.\n"
     ]
    },
    {
     "name": "stdin",
     "output_type": "stream",
     "text": [
      "Guess the number (between 1 and 100):  90\n"
     ]
    },
    {
     "name": "stdout",
     "output_type": "stream",
     "text": [
      "Too high! Try again.\n"
     ]
    },
    {
     "name": "stdin",
     "output_type": "stream",
     "text": [
      "Guess the number (between 1 and 100):  80\n"
     ]
    },
    {
     "name": "stdout",
     "output_type": "stream",
     "text": [
      "Too high! Try again.\n"
     ]
    },
    {
     "name": "stdin",
     "output_type": "stream",
     "text": [
      "Guess the number (between 1 and 100):  70\n"
     ]
    },
    {
     "name": "stdout",
     "output_type": "stream",
     "text": [
      "Too high! Try again.\n"
     ]
    },
    {
     "name": "stdin",
     "output_type": "stream",
     "text": [
      "Guess the number (between 1 and 100):  68\n"
     ]
    },
    {
     "name": "stdout",
     "output_type": "stream",
     "text": [
      "Too low! Try again.\n"
     ]
    },
    {
     "name": "stdin",
     "output_type": "stream",
     "text": [
      "Guess the number (between 1 and 100):  69\n"
     ]
    },
    {
     "name": "stdout",
     "output_type": "stream",
     "text": [
      "Congratulations! You guessed the number 69 correctly in 6 guesses.\n"
     ]
    }
   ],
   "source": [
    "import random \n",
    "n=random.randint(1,100)\n",
    "num=0\n",
    "while True:\n",
    "    i=int(input(\"Guess the number (between 1 and 100): \"))\n",
    "    if i == n:\n",
    "        print(\"Congratulations! You guessed the number {} correctly in {} guesses.\".format(n,num))\n",
    "        break\n",
    "    elif i < n:\n",
    "        print(\"Too low! Try again.\")\n",
    "    else:\n",
    "        print(\"Too high! Try again.\")\n",
    "    num=num+1"
   ]
  },
  {
   "cell_type": "markdown",
   "id": "5de061bb-5683-4aee-9ee1-c2a4a2bb2128",
   "metadata": {},
   "source": [
    "### Problem 20"
   ]
  },
  {
   "cell_type": "code",
   "execution_count": 8,
   "id": "d883badd-2886-4765-b8a7-5ea9a6a2d34a",
   "metadata": {},
   "outputs": [
    {
     "name": "stdin",
     "output_type": "stream",
     "text": [
      "Input 1st number:  96\n",
      "Input 2nd number:  40\n"
     ]
    },
    {
     "name": "stdout",
     "output_type": "stream",
     "text": [
      "The GCD of 96,40 is 8\n"
     ]
    }
   ],
   "source": [
    "a=int(input(\"Input 1st number: \"))\n",
    "b=int(input(\"Input 2nd number: \"))\n",
    "real_a=a\n",
    "real_b=b\n",
    "if(a>b):\n",
    "    while (1):\n",
    "        if(a%b==0):\n",
    "            print(\"The GCD of {},{} is {}\".format(real_a,real_b,b))\n",
    "            break\n",
    "        else:\n",
    "            c=a%b\n",
    "            a=b\n",
    "            b=c\n",
    "else:\n",
    "    while (1):\n",
    "        if(b%a==0):\n",
    "            print(\"The GCD of {},{} is {}\".format(real_a,real_b,a))\n",
    "            break\n",
    "        else:\n",
    "            c=b%a\n",
    "            a=c\n",
    "            b=a\n",
    "    \n",
    "        "
   ]
  },
  {
   "cell_type": "code",
   "execution_count": null,
   "id": "a7bf04fd-0e7f-49a7-9a6f-6221ce4a6cac",
   "metadata": {},
   "outputs": [],
   "source": []
  }
 ],
 "metadata": {
  "kernelspec": {
   "display_name": "Python 3 (ipykernel)",
   "language": "python",
   "name": "python3"
  },
  "language_info": {
   "codemirror_mode": {
    "name": "ipython",
    "version": 3
   },
   "file_extension": ".py",
   "mimetype": "text/x-python",
   "name": "python",
   "nbconvert_exporter": "python",
   "pygments_lexer": "ipython3",
   "version": "3.11.4"
  }
 },
 "nbformat": 4,
 "nbformat_minor": 5
}

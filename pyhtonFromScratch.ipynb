{
 "cells": [
  {
   "cell_type": "markdown",
   "id": "a5f8a8df-ea28-489f-82ff-09ca18452c89",
   "metadata": {},
   "source": [
    "# Python Basic 115 Problems "
   ]
  },
  {
   "cell_type": "markdown",
   "id": "73fe26cf-1568-42e9-ae8f-b89217a768f4",
   "metadata": {},
   "source": [
    "### 1. Variable Swap: Write a Python program to swap the values of two variables without using a temporary variable."
   ]
  },
  {
   "cell_type": "code",
   "execution_count": 2,
   "id": "9ab2254f-678c-478c-a8f6-b535dcf722e5",
   "metadata": {},
   "outputs": [
    {
     "name": "stdin",
     "output_type": "stream",
     "text": [
      "Enter the value of a  9\n",
      "Enter the value of b  2\n"
     ]
    },
    {
     "name": "stdout",
     "output_type": "stream",
     "text": [
      "Value of a before swapping: 9\n",
      "Value of b before swapping: 2\n",
      "Value of a after swapping: 2\n",
      "Value of b after swapping: 9\n"
     ]
    }
   ],
   "source": [
    "a=int(input(\"Enter the value of a \"))\n",
    "b=int(input(\"Enter the value of b \"))\n",
    "print(\"Value of a before swapping: {}\".format(a))\n",
    "print(\"Value of b before swapping: {}\".format(b))\n",
    "a=a+b\n",
    "b=a-b\n",
    "a=a-b\n",
    "print(\"Value of a after swapping: {}\".format(a))\n",
    "print(\"Value of b after swapping: {}\".format(b))"
   ]
  },
  {
   "cell_type": "markdown",
   "id": "ba1610b9-c333-4b7c-83e3-22038ab82e5a",
   "metadata": {},
   "source": [
    "### 2. Even or Odd: Write a Python program that takes an integer as input and prints whether it is even or odd."
   ]
  },
  {
   "cell_type": "code",
   "execution_count": 3,
   "id": "da151146-45da-429f-b2b5-4ecdaa272269",
   "metadata": {},
   "outputs": [
    {
     "name": "stdin",
     "output_type": "stream",
     "text": [
      "Input a number:  5\n"
     ]
    },
    {
     "name": "stdout",
     "output_type": "stream",
     "text": [
      "5 is a odd number\n"
     ]
    }
   ],
   "source": [
    "n=int(input(\"Input a number: \"))\n",
    "if n%2==0:\n",
    "    print(n,\"is an even number\")\n",
    "else:\n",
    "    print(n,\"is a odd number\")"
   ]
  },
  {
   "cell_type": "markdown",
   "id": "cf674e2c-994e-4ae1-ace2-53f08906833a",
   "metadata": {},
   "source": [
    "### 3. String Reverse: Write a Python function to reverse a given string and return the reversed string."
   ]
  },
  {
   "cell_type": "code",
   "execution_count": 5,
   "id": "04f11a7e-263a-4197-884b-c4f5b91aed58",
   "metadata": {},
   "outputs": [
    {
     "name": "stdin",
     "output_type": "stream",
     "text": [
      "Enter a string:  help\n"
     ]
    },
    {
     "name": "stdout",
     "output_type": "stream",
     "text": [
      "String given by the user help\n",
      "String reversed pleh\n"
     ]
    }
   ],
   "source": [
    "string=input(\"Enter a string: \")\n",
    "print(\"String given by the user {}\".format(string))\n",
    "new=string[::-1]\n",
    "print(\"String reversed {}\".format(new))"
   ]
  },
  {
   "cell_type": "markdown",
   "id": "da64dfe9-6d5b-4276-b455-81a923e09d7a",
   "metadata": {},
   "source": [
    "### 4. Type Conversion: Given a list of integers, write a Python program to convert each element of the list to a string."
   ]
  },
  {
   "cell_type": "code",
   "execution_count": 18,
   "id": "c17f5408-9ccf-4669-a7ca-1d0206ad91bf",
   "metadata": {},
   "outputs": [
    {
     "data": {
      "text/plain": [
       "['1', '2', '3', '4', '5']"
      ]
     },
     "execution_count": 18,
     "metadata": {},
     "output_type": "execute_result"
    }
   ],
   "source": [
    "li=[1,2,3,4,5]\n",
    "strings=[str(num) for num in li]\n",
    "type(strings)\n",
    "strings"
   ]
  },
  {
   "cell_type": "markdown",
   "id": "e71c6728-91ca-4134-963f-01b8f37725ba",
   "metadata": {},
   "source": [
    "### 5. Temperature Converter: Write a Python program that converts a temperature in Celsius to Fahrenheit. Take the Celsius temperature as input from the user."
   ]
  },
  {
   "cell_type": "code",
   "execution_count": 21,
   "id": "dd85a53b-1426-493c-8ede-bae245c22e07",
   "metadata": {},
   "outputs": [
    {
     "name": "stdin",
     "output_type": "stream",
     "text": [
      "Enter temperature in Celsius degree:  229\n"
     ]
    },
    {
     "name": "stdout",
     "output_type": "stream",
     "text": [
      "Temperature converted into Fahrenheit degree 444.2000\n"
     ]
    }
   ],
   "source": [
    "c=int(input(\"Enter temperature in Celsius degree: \"))\n",
    "print(\"Temperature converted into Fahrenheit degree {:.4f}\".format(((9*c)/5)+32))"
   ]
  },
  {
   "cell_type": "markdown",
   "id": "356d3c16-a5f2-44e7-b1c3-304ab4cad148",
   "metadata": {},
   "source": [
    "### 6. Data Type Checker: Write a Python function that takes a variable as input and returns the data type of the variable as a string (e.g., “int”, “float”, “str”, “list”, etc.)."
   ]
  },
  {
   "cell_type": "code",
   "execution_count": 26,
   "id": "97eea12e-f7d9-4f00-95d6-6abd1ffa48c6",
   "metadata": {},
   "outputs": [
    {
     "name": "stdout",
     "output_type": "stream",
     "text": [
      "int\n",
      "float\n",
      "str\n",
      "list\n"
     ]
    }
   ],
   "source": [
    "def data_type_checker(variable):\n",
    "    data_type = type(variable).__name__\n",
    "    return data_type\n",
    "\n",
    "print(data_type_checker(5))            \n",
    "print(data_type_checker(3.14))         \n",
    "print(data_type_checker(\"hello\"))      \n",
    "print(data_type_checker([1, 2, 3]))   "
   ]
  },
  {
   "cell_type": "markdown",
   "id": "d936857e-0730-44a3-9c88-b8a50ff6ee38",
   "metadata": {},
   "source": [
    "### 7. String Palindrome: Write a Python function to check if a given string is a palindrome or not."
   ]
  },
  {
   "cell_type": "code",
   "execution_count": 27,
   "id": "1d3f59c3-91a3-4902-b0e3-b53e74a029d1",
   "metadata": {},
   "outputs": [
    {
     "name": "stdin",
     "output_type": "stream",
     "text": [
      "Enter a string:  baba\n"
     ]
    },
    {
     "name": "stdout",
     "output_type": "stream",
     "text": [
      "baba  is not a palindrome \n"
     ]
    }
   ],
   "source": [
    "string=input(\"Enter a string: \")\n",
    "new=string[::-1]\n",
    "if(string==new):\n",
    "    print(string, \" is a palindrome \")\n",
    "else:\n",
    "    print(string, \" is not a palindrome \")"
   ]
  },
  {
   "cell_type": "markdown",
   "id": "c131e31c-7cee-4ce2-b9f4-7f9ff0e1d3ca",
   "metadata": {},
   "source": [
    "### 8. String Reversal with Slicing: Write a Python function to reverse a given string using slicing."
   ]
  },
  {
   "cell_type": "code",
   "execution_count": 28,
   "id": "7ce0eb3a-51db-4aa5-bd9f-e59d6f2c1797",
   "metadata": {},
   "outputs": [
    {
     "name": "stdin",
     "output_type": "stream",
     "text": [
      "Enter a string:  abcba\n"
     ]
    },
    {
     "name": "stdout",
     "output_type": "stream",
     "text": [
      "String given by the user abcba\n",
      "String reversed abcba\n"
     ]
    }
   ],
   "source": [
    "string=input(\"Enter a string: \")\n",
    "print(\"String given by the user {}\".format(string))\n",
    "new=string[::-1]\n",
    "print(\"String reversed {}\".format(new))"
   ]
  },
  {
   "cell_type": "markdown",
   "id": "63cf86a6-6dce-4133-8350-63b91d302782",
   "metadata": {},
   "source": [
    "### 9. String Concatenation: Write a Python program that takes two strings as input and concatenates them into a single string without using the `+` operator."
   ]
  },
  {
   "cell_type": "code",
   "execution_count": 33,
   "id": "cf6f3c48-413e-47bb-88bb-dd1e6241ec6c",
   "metadata": {},
   "outputs": [
    {
     "name": "stdin",
     "output_type": "stream",
     "text": [
      "Enter the first string:  hi\n",
      "Enter the second string:  there\n"
     ]
    },
    {
     "data": {
      "text/plain": [
       "'hi there'"
      ]
     },
     "execution_count": 33,
     "metadata": {},
     "output_type": "execute_result"
    }
   ],
   "source": [
    "str1=input(\"Enter the first string: \")\n",
    "str2=input(\"Enter the second string: \")\n",
    "string=f\"{str1} {str2}\"\n",
    "string"
   ]
  },
  {
   "cell_type": "markdown",
   "id": "9a69f707-5dee-45b1-909f-4ee2805be20b",
   "metadata": {},
   "source": [
    "### 10. Typecasting Challenge: Given three variables: `a = ‘100’`, `b = 25`, and `c = ‘10.5’`, write a Python program to perform the following operations and print the results: – Convert `a` to an integer and add it to `b`. – Convert `c` to a float and subtract it from the result of the first operation. – Convert the final result to a string and concatenate it with the string ” is the answer.”"
   ]
  },
  {
   "cell_type": "code",
   "execution_count": 4,
   "id": "c52f02f8-4511-4463-bf5f-b63b7405672e",
   "metadata": {},
   "outputs": [
    {
     "data": {
      "text/plain": [
       "'125.0 is the answer.'"
      ]
     },
     "execution_count": 4,
     "metadata": {},
     "output_type": "execute_result"
    }
   ],
   "source": [
    "a = \"100\"\n",
    "b = 25\n",
    "c = \"10.5\"\n",
    "first_op=int(a)+b\n",
    "second_op=float(first_op)\n",
    "string=str(second_op)+\" is the answer.\"\n",
    "string"
   ]
  },
  {
   "cell_type": "markdown",
   "id": "e29f21cb-96e5-411d-b9f0-30b4688bc37e",
   "metadata": {},
   "source": [
    "### 11. Positive, Negative, or Zero: Write a Python program that takes a number as input and prints whether it is positive, negative, or zero."
   ]
  },
  {
   "cell_type": "code",
   "execution_count": 5,
   "id": "8812f291-8bdf-45b8-bfb0-ecb9e7343f02",
   "metadata": {},
   "outputs": [
    {
     "name": "stdin",
     "output_type": "stream",
     "text": [
      "Input a number:  0\n"
     ]
    },
    {
     "name": "stdout",
     "output_type": "stream",
     "text": [
      "0 is zero\n"
     ]
    }
   ],
   "source": [
    "n=int(input(\"Input a number: \"))\n",
    "if n==0:\n",
    "    print(n,\"is zero\")\n",
    "elif (n>0):\n",
    "    print(n,\"is a positive number\")\n",
    "else:\n",
    "    print(n,\"is a negative number\")"
   ]
  },
  {
   "cell_type": "markdown",
   "id": "05f06f1a-0299-4c17-b788-43642387b80f",
   "metadata": {},
   "source": [
    "### 12. Largest of Three Numbers: Write a Python program that takes three numbers as input and prints the largest among them."
   ]
  },
  {
   "cell_type": "code",
   "execution_count": 6,
   "id": "436353a9-defa-4e49-bb8a-78aae4b1d42c",
   "metadata": {},
   "outputs": [
    {
     "name": "stdin",
     "output_type": "stream",
     "text": [
      "Input 1st number:  56\n",
      "Input 2nd number:  23\n",
      "Input 3rd number:  12\n"
     ]
    },
    {
     "name": "stdout",
     "output_type": "stream",
     "text": [
      "a = 56 is the greatest number \n"
     ]
    }
   ],
   "source": [
    "a=int(input(\"Input 1st number: \"))\n",
    "b=int(input(\"Input 2nd number: \"))\n",
    "c=int(input(\"Input 3rd number: \"))\n",
    "if (a>b) and (a>c):\n",
    "    print(\"a = {} is the greatest number \".format(a))\n",
    "elif (b>a) and (b>c):\n",
    "    print(\"b = {} is the greatest number \".format(b))\n",
    "else:\n",
    "    print(\"c = {} is the greatest number \".format(c))"
   ]
  },
  {
   "cell_type": "markdown",
   "id": "01b313b7-fb75-44df-a3f6-ac90232669d4",
   "metadata": {},
   "source": [
    "### 13. Leap Year Checker: Write a Python program that takes a year as input and determines if it is a leap year or not."
   ]
  },
  {
   "cell_type": "code",
   "execution_count": 7,
   "id": "84d6e817-244d-4b70-8daa-b70edbbd43aa",
   "metadata": {},
   "outputs": [
    {
     "name": "stdin",
     "output_type": "stream",
     "text": [
      "Enter a year  2024\n"
     ]
    },
    {
     "name": "stdout",
     "output_type": "stream",
     "text": [
      "2024  is a leap year\n"
     ]
    }
   ],
   "source": [
    "year=int(input(\"Enter a year \"))\n",
    "if (year%400==0) or ((year%4==0) and (year%100!=0)):\n",
    "    print(year,\" is a leap year\")\n",
    "else:\n",
    "    print(year,\" is not a leap year\")"
   ]
  },
  {
   "cell_type": "markdown",
   "id": "d1a3f669-3b41-4035-bc36-eea2dd3da121",
   "metadata": {},
   "source": [
    "### 14. Grades Classification: Write a Python program that takes a student’s percentage as input and prints their corresponding grade according to the following criteria: – 90% or above: A+ – 80-89%: A – 70-79%: B – 60-69%: C – Below 60%: Fail"
   ]
  },
  {
   "cell_type": "code",
   "execution_count": 9,
   "id": "d74effa3-d0c0-4c23-a1c8-5dbc086b7d8b",
   "metadata": {},
   "outputs": [
    {
     "name": "stdin",
     "output_type": "stream",
     "text": [
      "Enter the percentage:  56\n"
     ]
    },
    {
     "name": "stdout",
     "output_type": "stream",
     "text": [
      "Fail\n"
     ]
    }
   ],
   "source": [
    "percentage = float(input(\"Enter the percentage: \"))\n",
    "if percentage >= 90:\n",
    "    print(\"A+\")\n",
    "elif percentage >= 80:\n",
    "    print(\"A\")\n",
    "elif percentage >= 70:\n",
    "    print(\"B\")\n",
    "elif percentage >= 60:\n",
    "    print(\"C\")\n",
    "else:\n",
    "    print(\"Fail\")"
   ]
  },
  {
   "cell_type": "markdown",
   "id": "5756d217-0804-4199-b723-1cffb77a91d1",
   "metadata": {},
   "source": [
    "### 15. Vowel or Consonant: Write a Python program that takes a single character as input and determines whether it is a vowel or a consonant."
   ]
  },
  {
   "cell_type": "code",
   "execution_count": 12,
   "id": "d5d65466-82df-49b7-a8c7-2d143ba5d1b7",
   "metadata": {},
   "outputs": [
    {
     "name": "stdin",
     "output_type": "stream",
     "text": [
      "Enter a character  d\n"
     ]
    },
    {
     "name": "stdout",
     "output_type": "stream",
     "text": [
      "Character entered d is a consonant\n"
     ]
    }
   ],
   "source": [
    "c=input(\"Enter a character \")\n",
    "if (c==\"A\") or (c==\"a\") or (c==\"E\") or (c==\"e\") or (c==\"I\") or (c==\"i\") or (c==\"O\") or (c==\"o\") or (c==\"U\") or (c==\"u\"):\n",
    "    print(\"Character entered {} is a vowel\".format(c))\n",
    "else:\n",
    "    print(\"Character entered {} is a consonant\".format(c))"
   ]
  },
  {
   "cell_type": "markdown",
   "id": "52fb8090-b63a-459a-b296-21d994c15ea8",
   "metadata": {},
   "source": [
    "### 16. Time Classification: Write a Python program that takes the time in hours (24-hour format) as input and prints “Good Morning”, “Good Afternoon”, “Good Evening”, or “Good Night” based on the time."
   ]
  },
  {
   "cell_type": "code",
   "execution_count": 18,
   "id": "bbafb4fc-c64f-48f2-9d9e-6d13a2e342f0",
   "metadata": {},
   "outputs": [
    {
     "name": "stdin",
     "output_type": "stream",
     "text": [
      "Enter the time (in 24-hour format, e.g., 14:30):  13:45\n"
     ]
    },
    {
     "name": "stdout",
     "output_type": "stream",
     "text": [
      "Good Afternoon\n"
     ]
    }
   ],
   "source": [
    "time = input(\"Enter the time (in 24-hour format, e.g., 14:30): \")\n",
    "hour=int(time.split(':')[0])\n",
    "if(hour>=1 and hour<=11):\n",
    "    print(\"Good Morning\")\n",
    "elif(hour>=12 and hour<=17):\n",
    "    print(\"Good Afternoon\")\n",
    "elif(hour>=0 and hour<=5):\n",
    "    print(\"Good Night\")\n",
    "else:\n",
    "    print(\"Good Evening\")"
   ]
  },
  {
   "cell_type": "markdown",
   "id": "1ccb971e-f7e8-4231-9600-569a129e7e14",
   "metadata": {},
   "source": [
    "### 17. Triangle Type Checker: Write a Python program that takes three sides of a triangle as input and determines whether it forms an equilateral, isosceles, or scalene triangle."
   ]
  },
  {
   "cell_type": "code",
   "execution_count": 19,
   "id": "b2857971-5c59-4b32-88d0-e53240b68086",
   "metadata": {},
   "outputs": [
    {
     "name": "stdin",
     "output_type": "stream",
     "text": [
      "Input 1st side:  3\n",
      "Input 2nd side:  3\n",
      "Input 3rd side:  3\n"
     ]
    },
    {
     "name": "stdout",
     "output_type": "stream",
     "text": [
      "The triangle is an equilateral triangle\n"
     ]
    }
   ],
   "source": [
    "a=int(input(\"Input 1st side: \"))\n",
    "b=int(input(\"Input 2nd side: \"))\n",
    "c=int(input(\"Input 3rd side: \"))\n",
    "if (a==b) and (b==c):\n",
    "    print(\"The triangle is an equilateral triangle\")\n",
    "elif (a==b) or (b==c) or (a==c):\n",
    "    print(\"The triangle is an isosceles triangle\")\n",
    "else:\n",
    "    print(\"The triangle is an scalene triangle\")"
   ]
  },
  {
   "cell_type": "markdown",
   "id": "d7360e27-b524-4ce0-9fb1-08f4750a2089",
   "metadata": {},
   "source": [
    "### 18. Quadratic Equation Solver: Write a Python program that takes the coefficients (a, b, c) of a quadratic equation as input and calculates and prints the real roots (if they exist) or a message indicating the complex roots."
   ]
  },
  {
   "cell_type": "code",
   "execution_count": 25,
   "id": "88f2b57c-1362-4d51-b795-4e8c2d5acae3",
   "metadata": {},
   "outputs": [
    {
     "name": "stdin",
     "output_type": "stream",
     "text": [
      "Input value of the a coeffficient:  2\n",
      "Input value of the b coeffficient:  8\n",
      "Input value of the c coeffficient:  1\n"
     ]
    },
    {
     "name": "stdout",
     "output_type": "stream",
     "text": [
      "There are 2 real roots of the equation : -0.1292, -3.8708\n"
     ]
    }
   ],
   "source": [
    "import math\n",
    "a=float(input(\"Input value of the a coeffficient: \"))\n",
    "b=float(input(\"Input value of the b coeffficient: \"))\n",
    "c=float(input(\"Input value of the c coeffficient: \"))\n",
    "discriminant=b**2-4*a*c\n",
    "if discriminant>0:\n",
    "    root1=(-b+math.sqrt(discriminant))/(2*a)\n",
    "    root2=(-b-math.sqrt(discriminant))/(2*a)\n",
    "    print(\"There are 2 real roots of the equation : {:.4f}, {:.4f}\".format(root1,root2))\n",
    "elif discriminant==0:\n",
    "    root = -b / (2*a)\n",
    "    print(\"There is only 1 real root of the equation : {:.4f}\".format(root))\n",
    "else:\n",
    "    print(\"There is no real root only complex roots\")\n",
    "    "
   ]
  },
  {
   "cell_type": "markdown",
   "id": "4e103893-281e-4c41-a4ab-cd3277d2c567",
   "metadata": {},
   "source": [
    "### 19. Number Ranges: Write a Python program that takes an integer as input and prints whether the number falls within the ranges: 0-50, 51-100, 101-150, or above 150."
   ]
  },
  {
   "cell_type": "code",
   "execution_count": 27,
   "id": "dcc97b74-f2f5-4012-b5bf-6e8f100d7375",
   "metadata": {},
   "outputs": [
    {
     "name": "stdin",
     "output_type": "stream",
     "text": [
      "Enter a number:  890\n"
     ]
    },
    {
     "name": "stdout",
     "output_type": "stream",
     "text": [
      "Falls above the range 150\n"
     ]
    }
   ],
   "source": [
    "n=int(input(\"Enter a number: \"))\n",
    "if(n>=0 and n<=50):\n",
    "    print(\"Falls in the range 0-50\")\n",
    "elif(n>=51 and n<=100):\n",
    "    print(\"Falls in the range 51-100\")\n",
    "elif(n>=101 and n<=150):\n",
    "    print(\"Falls in the range 101-150\")\n",
    "else:\n",
    "    print(\"Falls above the range 150\")"
   ]
  },
  {
   "cell_type": "markdown",
   "id": "90568989-d3b1-461a-aa71-ed42efa4687c",
   "metadata": {},
   "source": [
    "### 20. Sum of N Numbers: Write a Python program using a for loop to calculate the sum of the first N natural numbers, where N is taken as input from the user."
   ]
  },
  {
   "cell_type": "code",
   "execution_count": 1,
   "id": "761bc5b4-553f-40c9-b493-159d0e094499",
   "metadata": {},
   "outputs": [
    {
     "name": "stdin",
     "output_type": "stream",
     "text": [
      "Input a number:  4\n"
     ]
    },
    {
     "name": "stdout",
     "output_type": "stream",
     "text": [
      "10\n"
     ]
    }
   ],
   "source": [
    "n=int(input(\"Input a number: \"))\n",
    "sum=0\n",
    "for i in range (n):\n",
    "    sum=sum+(i+1)\n",
    "print(sum)"
   ]
  },
  {
   "cell_type": "markdown",
   "id": "3a89faf0-28a9-417c-8f11-5ffa5bb572de",
   "metadata": {},
   "source": [
    "### 21. Factorial Calculator: Write a Python program using a while loop to calculate the factorial of a given number N."
   ]
  },
  {
   "cell_type": "code",
   "execution_count": 2,
   "id": "eb9818f5-ecec-4c93-b489-33f1c35131cf",
   "metadata": {},
   "outputs": [
    {
     "name": "stdin",
     "output_type": "stream",
     "text": [
      "Input a number:  4\n"
     ]
    },
    {
     "name": "stdout",
     "output_type": "stream",
     "text": [
      "24\n"
     ]
    }
   ],
   "source": [
    "n=int(input(\"Input a number: \"))\n",
    "f=1;\n",
    "for i in range (n):\n",
    "    f=f*(i+1)\n",
    "print(f)"
   ]
  },
  {
   "cell_type": "markdown",
   "id": "55eb0dac-3a6e-4068-8940-6430c9ec24ac",
   "metadata": {},
   "source": [
    "### 22. Table of a Number: Write a Python program using a for loop to print the multiplication table of a given number N."
   ]
  },
  {
   "cell_type": "code",
   "execution_count": 3,
   "id": "2bf049df-4b53-4b05-8a61-e189bcf9eedc",
   "metadata": {},
   "outputs": [
    {
     "name": "stdin",
     "output_type": "stream",
     "text": [
      "Input a number:  4\n"
     ]
    },
    {
     "name": "stdout",
     "output_type": "stream",
     "text": [
      "4 x 1 = 4\n",
      "4 x 2 = 8\n",
      "4 x 3 = 12\n",
      "4 x 4 = 16\n",
      "4 x 5 = 20\n",
      "4 x 6 = 24\n",
      "4 x 7 = 28\n",
      "4 x 8 = 32\n",
      "4 x 9 = 36\n",
      "4 x 10 = 40\n"
     ]
    }
   ],
   "source": [
    "n=int(input(\"Input a number: \"))\n",
    "for i in range (1, 11):\n",
    "    print(\"{} x {} = {}\".format(n,i,n*i))"
   ]
  },
  {
   "cell_type": "markdown",
   "id": "63fddca5-f0a0-415b-bc65-1be1e02e08d6",
   "metadata": {},
   "source": [
    "### 23.  Count Digits in a Number: Write a Python program using a while loop to count the number of digits in a given integer N."
   ]
  },
  {
   "cell_type": "code",
   "execution_count": 5,
   "id": "0dcf3603-5df3-4515-97a9-6220cbb17c5d",
   "metadata": {},
   "outputs": [
    {
     "name": "stdin",
     "output_type": "stream",
     "text": [
      "Input a number:  1234\n"
     ]
    },
    {
     "name": "stdout",
     "output_type": "stream",
     "text": [
      "4\n"
     ]
    }
   ],
   "source": [
    "n=int(input(\"Input a number: \"))\n",
    "count=0;\n",
    "while(n>0):\n",
    "    n=int(n/10)\n",
    "    count=count+1\n",
    "print(count)"
   ]
  },
  {
   "cell_type": "markdown",
   "id": "6711307d-6bf6-4f37-a199-13d978934b42",
   "metadata": {},
   "source": [
    "### 24. Fibonacci Sequence: Write a Python program using a for loop to generate the Fibonacci sequence up to a given limit N."
   ]
  },
  {
   "cell_type": "code",
   "execution_count": 6,
   "id": "77b88e2b-3f3d-4189-854b-68aa588deadb",
   "metadata": {},
   "outputs": [
    {
     "name": "stdin",
     "output_type": "stream",
     "text": [
      "Input a number:  5\n"
     ]
    },
    {
     "name": "stdout",
     "output_type": "stream",
     "text": [
      "0 1 1 2 3 "
     ]
    }
   ],
   "source": [
    "n=int(input(\"Input a number: \"))\n",
    "a=0\n",
    "b=1\n",
    "if(n>=1):\n",
    "    print(a, end=\" \")\n",
    "if(n>=2):\n",
    "    print(b, end=\" \")\n",
    "if(n>2):\n",
    "    for i in range (n-2):\n",
    "        print(a+b, end=\" \")\n",
    "        c=a\n",
    "        a=b\n",
    "        b=c+b"
   ]
  },
  {
   "cell_type": "markdown",
   "id": "f7abec00-05e0-4e17-8daa-42ca8d1d4086",
   "metadata": {},
   "source": [
    "### 25. Sum of Even Numbers: Write a Python program using a while loop to calculate the sum of all even numbers between 1 and N, where N is taken as input from the user."
   ]
  },
  {
   "cell_type": "code",
   "execution_count": 7,
   "id": "7cb9a6bd-f318-4ddf-a939-562cf1f766fe",
   "metadata": {},
   "outputs": [
    {
     "name": "stdin",
     "output_type": "stream",
     "text": [
      "Input a number:  6\n"
     ]
    },
    {
     "name": "stdout",
     "output_type": "stream",
     "text": [
      "12\n"
     ]
    }
   ],
   "source": [
    "n=int(input(\"Input a number: \"))\n",
    "sum=0\n",
    "for i in range (n):\n",
    "    if (i+1)%2==0:\n",
    "        sum=sum+i+1\n",
    "print(sum)"
   ]
  },
  {
   "cell_type": "markdown",
   "id": "47bf30c3-4bfb-4c80-ace3-f0b564f2bfd7",
   "metadata": {},
   "source": [
    "### 26.  Print Patterns: Write a Python program using nested for loops to print various patterns, such as a right-angled triangle, an inverted right-angled triangle, and so on."
   ]
  },
  {
   "cell_type": "code",
   "execution_count": 8,
   "id": "0579011d-6046-4f66-8cf9-0f50492d7117",
   "metadata": {},
   "outputs": [
    {
     "name": "stdout",
     "output_type": "stream",
     "text": [
      "Right-angled Triangle:\n",
      "*\n",
      "**\n",
      "***\n",
      "****\n",
      "*****\n",
      "\n",
      "Inverted Right-angled Triangle:\n",
      "*****\n",
      "****\n",
      "***\n",
      "**\n",
      "*\n",
      "\n",
      "Pyramid:\n",
      "    *\n",
      "   ***\n",
      "  *****\n",
      " *******\n",
      "*********\n",
      "\n",
      "Inverted Pyramid:\n",
      "*********\n",
      " *******\n",
      "  *****\n",
      "   ***\n",
      "    *\n",
      "\n",
      "Diamond:\n",
      "    *\n",
      "   ***\n",
      "  *****\n",
      " *******\n",
      "*********\n",
      " *******\n",
      "  *****\n",
      "   ***\n",
      "    *\n"
     ]
    }
   ],
   "source": [
    "def print_right_triangle(height):\n",
    "    for i in range(1, height + 1):\n",
    "        print('*' * i)\n",
    "\n",
    "def print_inverted_right_triangle(height):\n",
    "    for i in range(height, 0, -1):\n",
    "        print('*' * i)\n",
    "\n",
    "def print_pyramid(height):\n",
    "    for i in range(1, height + 1):\n",
    "        print(' ' * (height - i) + '*' * (2 * i - 1))\n",
    "\n",
    "def print_inverted_pyramid(height):\n",
    "    for i in range(height, 0, -1):\n",
    "        print(' ' * (height - i) + '*' * (2 * i - 1))\n",
    "\n",
    "def print_diamond(height):\n",
    "    for i in range(1, height + 1):\n",
    "        print(' ' * (height - i) + '*' * (2 * i - 1))\n",
    "    for i in range(height - 1, 0, -1):\n",
    "        print(' ' * (height - i) + '*' * (2 * i - 1))\n",
    "\n",
    "height = 5\n",
    "\n",
    "print(\"Right-angled Triangle:\")\n",
    "print_right_triangle(height)\n",
    "print(\"\\nInverted Right-angled Triangle:\")\n",
    "print_inverted_right_triangle(height)\n",
    "print(\"\\nPyramid:\")\n",
    "print_pyramid(height)\n",
    "print(\"\\nInverted Pyramid:\")\n",
    "print_inverted_pyramid(height)\n",
    "print(\"\\nDiamond:\")\n",
    "print_diamond(height)\n"
   ]
  },
  {
   "cell_type": "markdown",
   "id": "a1fde929-7a7d-4ee6-9d00-c1025c61060e",
   "metadata": {},
   "source": [
    "### 27. Prime Number Checker: Write a Python program using a while loop to check if a given number N is prime or not."
   ]
  },
  {
   "cell_type": "code",
   "execution_count": 12,
   "id": "e4854dbc-bbe6-47a7-99e8-8cc9647b4f68",
   "metadata": {},
   "outputs": [
    {
     "name": "stdin",
     "output_type": "stream",
     "text": [
      "Input a number:  5\n"
     ]
    },
    {
     "name": "stdout",
     "output_type": "stream",
     "text": [
      "5  is a prime number\n"
     ]
    }
   ],
   "source": [
    "n=int(input(\"Input a number: \"))\n",
    "flag=1;\n",
    "if(n==2 or n==3):\n",
    "    print(n,\" is a prime number\")\n",
    "elif (n>3):\n",
    "    i=2\n",
    "    while i<=int(n/2):\n",
    "        if(n%i==0):\n",
    "            print(n,\" is not a prime number\")\n",
    "            flag=0\n",
    "            break\n",
    "        i=i+1\n",
    "    if(flag==1):\n",
    "        print(n,\" is a prime number\")    "
   ]
  },
  {
   "cell_type": "markdown",
   "id": "8f212702-85a8-47a0-a389-5179f4cbeedf",
   "metadata": {},
   "source": [
    "### 28.  List Manipulation: Given a list of integers, write a Python program using a for loop to find the sum, average, maximum, and minimum values in the list."
   ]
  },
  {
   "cell_type": "code",
   "execution_count": 15,
   "id": "f6b8c413-d561-4ada-a94b-0397d32c3f0f",
   "metadata": {},
   "outputs": [
    {
     "name": "stdout",
     "output_type": "stream",
     "text": [
      "Sum : 15\n",
      "Average : 3.00\n",
      "Maximum : 5\n",
      "Minimum : 1\n"
     ]
    }
   ],
   "source": [
    "li=[1,2,3,4,5]\n",
    "sum=0\n",
    "max=-1\n",
    "min=100000\n",
    "for i in li:\n",
    "    sum=sum+i\n",
    "    if(i>max):\n",
    "        max=i\n",
    "    if(i<min):\n",
    "        min=i\n",
    "average=float(sum/len(li))\n",
    "print(\"Sum : {}\".format(sum))\n",
    "print(\"Average : {:.2f}\".format(average))\n",
    "print(\"Maximum : {}\".format(max))\n",
    "print(\"Minimum : {}\".format(min))"
   ]
  },
  {
   "cell_type": "markdown",
   "id": "0495a484-b00d-420a-9299-1718ec10b7ab",
   "metadata": {},
   "source": [
    "### 29.  Reverse String: Write a Python program using a while loop to reverse a given string."
   ]
  },
  {
   "cell_type": "code",
   "execution_count": 24,
   "id": "69536c67-a144-41b9-837e-482b818e3eba",
   "metadata": {},
   "outputs": [
    {
     "name": "stdin",
     "output_type": "stream",
     "text": [
      "Enter a string:  help\n"
     ]
    },
    {
     "name": "stdout",
     "output_type": "stream",
     "text": [
      "pleh\n"
     ]
    }
   ],
   "source": [
    "string=input(\"Enter a string: \")\n",
    "i=len(string)-1\n",
    "str2=\"\"\n",
    "while i!=-1:\n",
    "    str2=str2+string[i]\n",
    "    i=i-1\n",
    "print(str2)"
   ]
  },
  {
   "cell_type": "markdown",
   "id": "8e519a48-8c46-49e9-b51b-7702a06ec7e0",
   "metadata": {},
   "source": [
    "### 30. Multiplication Table: Write a Python program using nested loops to print the multiplication table from 1 to 10."
   ]
  },
  {
   "cell_type": "code",
   "execution_count": 25,
   "id": "2eeef203-d948-45c9-baf8-ce51ff0b036f",
   "metadata": {},
   "outputs": [
    {
     "name": "stdout",
     "output_type": "stream",
     "text": [
      "Multiplication table for 1:\n",
      "1 * 1 = 1\n",
      "1 * 2 = 2\n",
      "1 * 3 = 3\n",
      "1 * 4 = 4\n",
      "1 * 5 = 5\n",
      "1 * 6 = 6\n",
      "1 * 7 = 7\n",
      "1 * 8 = 8\n",
      "1 * 9 = 9\n",
      "1 * 10 = 10\n",
      "\n",
      "Multiplication table for 2:\n",
      "2 * 1 = 2\n",
      "2 * 2 = 4\n",
      "2 * 3 = 6\n",
      "2 * 4 = 8\n",
      "2 * 5 = 10\n",
      "2 * 6 = 12\n",
      "2 * 7 = 14\n",
      "2 * 8 = 16\n",
      "2 * 9 = 18\n",
      "2 * 10 = 20\n",
      "\n",
      "Multiplication table for 3:\n",
      "3 * 1 = 3\n",
      "3 * 2 = 6\n",
      "3 * 3 = 9\n",
      "3 * 4 = 12\n",
      "3 * 5 = 15\n",
      "3 * 6 = 18\n",
      "3 * 7 = 21\n",
      "3 * 8 = 24\n",
      "3 * 9 = 27\n",
      "3 * 10 = 30\n",
      "\n",
      "Multiplication table for 4:\n",
      "4 * 1 = 4\n",
      "4 * 2 = 8\n",
      "4 * 3 = 12\n",
      "4 * 4 = 16\n",
      "4 * 5 = 20\n",
      "4 * 6 = 24\n",
      "4 * 7 = 28\n",
      "4 * 8 = 32\n",
      "4 * 9 = 36\n",
      "4 * 10 = 40\n",
      "\n",
      "Multiplication table for 5:\n",
      "5 * 1 = 5\n",
      "5 * 2 = 10\n",
      "5 * 3 = 15\n",
      "5 * 4 = 20\n",
      "5 * 5 = 25\n",
      "5 * 6 = 30\n",
      "5 * 7 = 35\n",
      "5 * 8 = 40\n",
      "5 * 9 = 45\n",
      "5 * 10 = 50\n",
      "\n",
      "Multiplication table for 6:\n",
      "6 * 1 = 6\n",
      "6 * 2 = 12\n",
      "6 * 3 = 18\n",
      "6 * 4 = 24\n",
      "6 * 5 = 30\n",
      "6 * 6 = 36\n",
      "6 * 7 = 42\n",
      "6 * 8 = 48\n",
      "6 * 9 = 54\n",
      "6 * 10 = 60\n",
      "\n",
      "Multiplication table for 7:\n",
      "7 * 1 = 7\n",
      "7 * 2 = 14\n",
      "7 * 3 = 21\n",
      "7 * 4 = 28\n",
      "7 * 5 = 35\n",
      "7 * 6 = 42\n",
      "7 * 7 = 49\n",
      "7 * 8 = 56\n",
      "7 * 9 = 63\n",
      "7 * 10 = 70\n",
      "\n",
      "Multiplication table for 8:\n",
      "8 * 1 = 8\n",
      "8 * 2 = 16\n",
      "8 * 3 = 24\n",
      "8 * 4 = 32\n",
      "8 * 5 = 40\n",
      "8 * 6 = 48\n",
      "8 * 7 = 56\n",
      "8 * 8 = 64\n",
      "8 * 9 = 72\n",
      "8 * 10 = 80\n",
      "\n",
      "Multiplication table for 9:\n",
      "9 * 1 = 9\n",
      "9 * 2 = 18\n",
      "9 * 3 = 27\n",
      "9 * 4 = 36\n",
      "9 * 5 = 45\n",
      "9 * 6 = 54\n",
      "9 * 7 = 63\n",
      "9 * 8 = 72\n",
      "9 * 9 = 81\n",
      "9 * 10 = 90\n",
      "\n",
      "Multiplication table for 10:\n",
      "10 * 1 = 10\n",
      "10 * 2 = 20\n",
      "10 * 3 = 30\n",
      "10 * 4 = 40\n",
      "10 * 5 = 50\n",
      "10 * 6 = 60\n",
      "10 * 7 = 70\n",
      "10 * 8 = 80\n",
      "10 * 9 = 90\n",
      "10 * 10 = 100\n",
      "\n"
     ]
    }
   ],
   "source": [
    "for i in range(1, 11):\n",
    "    print(f\"Multiplication table for {i}:\")\n",
    "    for j in range(1, 11):\n",
    "        print(f\"{i} * {j} = {i * j}\")\n",
    "    print()"
   ]
  },
  {
   "cell_type": "markdown",
   "id": "57856594-aee6-4db9-bd8e-f9cfaa0a35da",
   "metadata": {},
   "source": [
    "### 31. Print Patterns: Write a Python program using nested loops to print the following pattern:\n",
    "*\n",
    "**\n",
    "***\n",
    "****\n",
    "*****"
   ]
  },
  {
   "cell_type": "code",
   "execution_count": 30,
   "id": "1e5aa1ff-2e6c-4682-b607-417209c4f406",
   "metadata": {},
   "outputs": [
    {
     "name": "stdout",
     "output_type": "stream",
     "text": [
      "* \n",
      "* * \n",
      "* * * \n",
      "* * * * \n",
      "* * * * * \n"
     ]
    }
   ],
   "source": [
    "for i in range (1,6):\n",
    "    for j in range (1, i+1):\n",
    "        print('*', end=' ')\n",
    "    print()"
   ]
  },
  {
   "cell_type": "markdown",
   "id": "c37d01a2-cb0a-4363-a186-8e83da6575c2",
   "metadata": {},
   "source": [
    "### 32. Matrix Multiplication: Write a Python program using nested loops to multiply two matrices."
   ]
  },
  {
   "cell_type": "code",
   "execution_count": 5,
   "id": "c3bba126-1684-4555-954c-9fa030d21e2d",
   "metadata": {},
   "outputs": [
    {
     "name": "stdout",
     "output_type": "stream",
     "text": [
      "Resultant Matrix : [[58, 64], [139, 154]]\n"
     ]
    }
   ],
   "source": [
    "matrix1 = [[1, 2, 3],\n",
    "           [4, 5, 6]]\n",
    "\n",
    "matrix2 = [[7, 8],\n",
    "           [9, 10],\n",
    "           [11, 12]]\n",
    "if len(matrix1[0])!=len(matrix2):\n",
    "    print(\"The two Matrices cannot be multiplied!\")\n",
    "else:\n",
    "    result=[[0 for _ in range(len(matrix2[0]))] for _ in range(len(matrix1))]\n",
    "    for i in range(len(matrix1)):\n",
    "        for j in range(len(matrix2[0])):\n",
    "            for k in range(len(matrix2)):\n",
    "                result[i][j] += matrix1[i][k] * matrix2[k][j]\n",
    "    print(\"Resultant Matrix : {}\".format(result))"
   ]
  },
  {
   "cell_type": "markdown",
   "id": "8220155e-6127-4773-b7f8-07e010e4a295",
   "metadata": {},
   "source": [
    "### 33. Chessboard Pattern: Write a Python program using nested loops to print a chessboard pattern (alternating “X” and “O” characters) of size 8×8."
   ]
  },
  {
   "cell_type": "code",
   "execution_count": 5,
   "id": "d8aa3196-3f6f-4eab-a09d-3b6720609be9",
   "metadata": {},
   "outputs": [
    {
     "name": "stdout",
     "output_type": "stream",
     "text": [
      "X O X O X O X O \n",
      "O X O X O X O X \n",
      "X O X O X O X O \n",
      "O X O X O X O X \n",
      "X O X O X O X O \n",
      "O X O X O X O X \n",
      "X O X O X O X O \n",
      "O X O X O X O X \n"
     ]
    }
   ],
   "source": [
    "for i in range (8):\n",
    "    for j in range (8):\n",
    "        if (i+j)%2==0:\n",
    "            print('X',end=' ')\n",
    "        else:\n",
    "            print('O',end=' ')\n",
    "    print()"
   ]
  },
  {
   "cell_type": "markdown",
   "id": "b7ba72dc-3312-43d9-b642-68d448c64840",
   "metadata": {},
   "source": [
    "### 34. List Sum: Write a Python program to find the sum of all elements in a given list of integers."
   ]
  },
  {
   "cell_type": "code",
   "execution_count": 6,
   "id": "ac324d3c-2597-4e41-a568-5c750eba22ae",
   "metadata": {},
   "outputs": [
    {
     "name": "stdout",
     "output_type": "stream",
     "text": [
      "Sum is: 15\n"
     ]
    }
   ],
   "source": [
    "li=[1,2,3,4,5]\n",
    "sum=0\n",
    "for i in li:\n",
    "    sum=sum+i\n",
    "print(\"Sum is: {}\".format(sum))"
   ]
  },
  {
   "cell_type": "markdown",
   "id": "fc7cc2d5-259e-4029-adbf-f0de04baebe8",
   "metadata": {},
   "source": [
    "### 35. List Average: Write a Python program to calculate the average of all elements in a given list of integers."
   ]
  },
  {
   "cell_type": "code",
   "execution_count": 7,
   "id": "4034dec0-a4f9-42e4-a780-117acfdd5107",
   "metadata": {},
   "outputs": [
    {
     "name": "stdout",
     "output_type": "stream",
     "text": [
      "Average is: 3.0\n"
     ]
    }
   ],
   "source": [
    "li=[1,2,3,4,5]\n",
    "sum=0\n",
    "for i in li:\n",
    "    sum=sum+i\n",
    "average=float(sum/len(li))\n",
    "print(\"Average is: {}\".format(average))"
   ]
  },
  {
   "cell_type": "markdown",
   "id": "e0a38ef0-7795-4a97-9d4c-503e751d13b6",
   "metadata": {},
   "source": [
    "### 36. List Max and Min: Write a Python program to find the maximum and minimum values in a given list of integers."
   ]
  },
  {
   "cell_type": "code",
   "execution_count": 8,
   "id": "bb0ec51c-8b96-4486-8dca-3f61a26e398b",
   "metadata": {},
   "outputs": [
    {
     "name": "stdout",
     "output_type": "stream",
     "text": [
      "Maximum element is: 5\n",
      "Minimum element is: 1\n"
     ]
    }
   ],
   "source": [
    "li=[1,2,3,4,5]\n",
    "max=-1\n",
    "min=100000\n",
    "for i in li:\n",
    "    if i>max:\n",
    "        max=i\n",
    "    if i<min:\n",
    "        min=i\n",
    "print(\"Maximum element is: {}\".format(max))\n",
    "print(\"Minimum element is: {}\".format(min))"
   ]
  },
  {
   "cell_type": "markdown",
   "id": "649814d0-32e4-4ce3-b94e-ac59f93f68d0",
   "metadata": {},
   "source": [
    "### 37. List Sorting: Write a Python program to sort a list of integers in ascending order."
   ]
  },
  {
   "cell_type": "code",
   "execution_count": 11,
   "id": "64f70766-0c85-4023-a031-f848c4093402",
   "metadata": {},
   "outputs": [
    {
     "data": {
      "text/plain": [
       "[0, 1, 2, 3, 3, 6, 9, 32, 45]"
      ]
     },
     "execution_count": 11,
     "metadata": {},
     "output_type": "execute_result"
    }
   ],
   "source": [
    "li=[3,2,6,3,9,0,1,45,32]\n",
    "li.sort()\n",
    "li"
   ]
  },
  {
   "cell_type": "markdown",
   "id": "7cfd6285-7935-4434-9792-128497015589",
   "metadata": {},
   "source": [
    "### 38. List Filtering: Given a list of integers, write a Python program to create a new list that contains only the even numbers from the original list."
   ]
  },
  {
   "cell_type": "code",
   "execution_count": 15,
   "id": "69a211a5-852b-4d8a-90fd-6090d65debdd",
   "metadata": {},
   "outputs": [
    {
     "name": "stdout",
     "output_type": "stream",
     "text": [
      "[2, 6, 0, 32, 6, 444, 68]\n"
     ]
    }
   ],
   "source": [
    "li=[3,2,6,3,9,0,1,45,32,6,89,444,21,68]\n",
    "li1=[]\n",
    "for i in li:\n",
    "    if i%2==0:\n",
    "        li1.append(i)\n",
    "print(li1)"
   ]
  },
  {
   "cell_type": "markdown",
   "id": "d8fb60a0-f774-411f-965d-b6a62a0ea4d0",
   "metadata": {},
   "source": [
    "### 39. List Reversal: Write a Python program to reverse a given list without using any built-in functions."
   ]
  },
  {
   "cell_type": "code",
   "execution_count": 18,
   "id": "d255a7b5-be79-480b-83c7-2db3fb830fb1",
   "metadata": {},
   "outputs": [
    {
     "name": "stdout",
     "output_type": "stream",
     "text": [
      "[5, 4, 3, 2, 1]\n"
     ]
    }
   ],
   "source": [
    "li=[1,2,3,4,5]\n",
    "li1=[]\n",
    "i=len(li)-1\n",
    "while i>=0:\n",
    "    li1.append(li[i])\n",
    "    i=i-1\n",
    "print(li1)"
   ]
  },
  {
   "cell_type": "markdown",
   "id": "fe5ae1bd-ffe7-4103-8d45-29df192cb887",
   "metadata": {},
   "source": [
    "### 40. List Manipulation: Given two lists of integers, write a Python program to create a new list that contains elements common to both lists."
   ]
  },
  {
   "cell_type": "code",
   "execution_count": 22,
   "id": "6f67df81-4724-42c4-8f33-615915b23421",
   "metadata": {},
   "outputs": [
    {
     "data": {
      "text/plain": [
       "[3, 5, 7, 8, 9]"
      ]
     },
     "execution_count": 22,
     "metadata": {},
     "output_type": "execute_result"
    }
   ],
   "source": [
    "li1=[1,2,3,4,5,6,7,8,9]\n",
    "li2=[3,5,7,8,9,10,12,15]\n",
    "Result = [i for i in li1 for j in li2 if i==j]\n",
    "Result"
   ]
  },
  {
   "cell_type": "markdown",
   "id": "d577f39a-f05d-4eab-8a4d-3fa5778b0374",
   "metadata": {},
   "source": [
    "### 41. List Element Count: Write a Python program to count the occurrences of a specific element in a given list."
   ]
  },
  {
   "cell_type": "code",
   "execution_count": 25,
   "id": "bfc5aeb0-cf62-4209-bd35-0cac8b1e015c",
   "metadata": {},
   "outputs": [
    {
     "name": "stdin",
     "output_type": "stream",
     "text": [
      "Input the element whose frequency you want to count:  4\n"
     ]
    },
    {
     "name": "stdout",
     "output_type": "stream",
     "text": [
      "Occurrence of the number 4 happened in the list for 4 times\n"
     ]
    }
   ],
   "source": [
    "li1=[0,1,2,3,4,5,6,7,8,9,4,2,5,8,1,4,0,7,9,3,2,3,3,1,6,4,5,8,9,6,8,3]\n",
    "freq=0\n",
    "n=int(input(\"Input the element whose frequency you want to count: \"))\n",
    "for i in li1:\n",
    "    if i==n:\n",
    "        freq=freq+1\n",
    "print(\"Occurrence of the number {} happened in the list for {} times\".format(n,freq))"
   ]
  },
  {
   "cell_type": "markdown",
   "id": "0fc529a2-5643-4322-bf00-f8eddc81a5bc",
   "metadata": {},
   "source": [
    "### 42. List Duplicates Removal: Write a Python program to remove duplicates from a given list while preserving the order of the elements."
   ]
  },
  {
   "cell_type": "code",
   "execution_count": 32,
   "id": "1d571fd0-2266-4f82-88cf-5a5f79f5e5b4",
   "metadata": {},
   "outputs": [
    {
     "data": {
      "text/plain": [
       "[0, 1, 2, 3, 4, 5, 6, 7, 8, 9]"
      ]
     },
     "execution_count": 32,
     "metadata": {},
     "output_type": "execute_result"
    }
   ],
   "source": [
    "li1=[0,1,2,3,4,5,6,7,8,9,4,2,5,8,1,4,0,7,9,3,2,3,3,1,6,4,5,8,9,6,8,3]\n",
    "res=[]\n",
    "[res.append(i) for i in li1 if i not in res]\n",
    "res"
   ]
  },
  {
   "cell_type": "markdown",
   "id": "c3a67047-ffda-4403-ab3b-3ab59b82f33c",
   "metadata": {},
   "source": [
    "### 43. List Comprehension: Given a list of integers, write a Python program to create a new list that contains the squares of the elements using list comprehension."
   ]
  },
  {
   "cell_type": "code",
   "execution_count": 33,
   "id": "4cd3ffd1-17c5-4181-beb5-eabe570475e0",
   "metadata": {},
   "outputs": [
    {
     "data": {
      "text/plain": [
       "[1, 4, 9, 16, 25, 36, 49, 64, 81]"
      ]
     },
     "execution_count": 33,
     "metadata": {},
     "output_type": "execute_result"
    }
   ],
   "source": [
    "li1=[1,2,3,4,5,6,7,8,9]\n",
    "li2=[i*i for i in li1]\n",
    "li2"
   ]
  },
  {
   "cell_type": "markdown",
   "id": "3407e36a-f5bb-4316-bce9-bc629a6ad3fe",
   "metadata": {},
   "source": [
    "### 44. Matrix Addition: Write a Python program to add two matrices represented as nested lists."
   ]
  },
  {
   "cell_type": "code",
   "execution_count": 1,
   "id": "838ade93-4f0f-417e-9d7f-68d9fda98cc4",
   "metadata": {},
   "outputs": [
    {
     "name": "stdout",
     "output_type": "stream",
     "text": [
      "Resultant Matrix : [[8, 10, 12], [13, 15, 17]]\n"
     ]
    }
   ],
   "source": [
    "matrix1 = [[1, 2, 3],\n",
    "           [4, 5, 6]]\n",
    "\n",
    "matrix2 = [[7, 8, 9],\n",
    "           [9, 10, 11]]\n",
    "if (len(matrix1)!=len(matrix2)) or (len(matrix1[0])!=len(matrix2[0])):\n",
    "    print(\"The two Matrices cannot be multiplied!\")\n",
    "else:\n",
    "    result=[[0 for _ in range(len(matrix2[0]))] for _ in range(len(matrix1))]\n",
    "    for i in range(len(matrix1)):\n",
    "        for j in range(len(matrix2[0])):\n",
    "            result[i][j]=matrix1[i][j]+matrix2[i][j]\n",
    "    print(\"Resultant Matrix : {}\".format(result))"
   ]
  },
  {
   "cell_type": "markdown",
   "id": "2918f758-64b6-4d7f-ae36-1c7e596ed5c5",
   "metadata": {},
   "source": [
    "### 45. Flatten Nested List: Write a Python program to flatten a given nested list and convert it into a single-dimensional list."
   ]
  },
  {
   "cell_type": "code",
   "execution_count": 7,
   "id": "a3c61b83-2765-4123-9a19-71b76fba969f",
   "metadata": {},
   "outputs": [
    {
     "data": {
      "text/plain": [
       "[1, 2, 3, 4, 5, 6, 7, 8, 9, 9, 10, 11]"
      ]
     },
     "execution_count": 7,
     "metadata": {},
     "output_type": "execute_result"
    }
   ],
   "source": [
    "matrix = [[1, 2, 3],\n",
    "           [4, 5, 6],\n",
    "           [7, 8, 9],\n",
    "           [9, 10, 11]]\n",
    "\n",
    "result=[item for row in matrix for item in row]\n",
    "result"
   ]
  },
  {
   "cell_type": "markdown",
   "id": "e538e2a5-de6a-4f94-9534-23c2c9df1f5f",
   "metadata": {},
   "source": [
    "### 46. List Element Frequency: Given a nested list containing lists of integers, write a Python program to count the frequency of each element in the entire nested list."
   ]
  },
  {
   "cell_type": "code",
   "execution_count": 8,
   "id": "3836d19d-362a-4ed8-acdc-cb2d2ac4de81",
   "metadata": {},
   "outputs": [
    {
     "name": "stdout",
     "output_type": "stream",
     "text": [
      "{'a': 4, 'b': 3, 'c': 2, 'h': 2, 'y': 2, 'g': 1}\n"
     ]
    }
   ],
   "source": [
    "from itertools import chain\n",
    "from collections import Counter\n",
    "Data = [['a', 'b'], \n",
    "        ['b', 'c', 'a'], \n",
    "        ['h', 'y', 'g'], \n",
    "        ['a', 'c', 'y', 'b'], \n",
    "        ['a', 'h']]\n",
    "print(dict(Counter(chain.from_iterable(Data))))"
   ]
  },
  {
   "cell_type": "markdown",
   "id": "bd1df6c1-4239-43e1-968f-0971c8129d06",
   "metadata": {},
   "source": [
    "### 47. Transpose Matrix: Write a Python program to transpose a given matrix represented as a nested list."
   ]
  },
  {
   "cell_type": "code",
   "execution_count": 10,
   "id": "c5f39315-6f9a-4f13-b573-71b29f54360b",
   "metadata": {},
   "outputs": [
    {
     "data": {
      "text/plain": [
       "[[1, 4, 7], [2, 5, 8], [3, 6, 9]]"
      ]
     },
     "execution_count": 10,
     "metadata": {},
     "output_type": "execute_result"
    }
   ],
   "source": [
    "matrix = [[1, 2, 3],\n",
    "           [4, 5, 6],\n",
    "           [7, 8, 9]]\n",
    "result=[[0 for _ in range(len(matrix[0]))] for _ in range(len(matrix))]\n",
    "for i in range(len(matrix[0])):\n",
    "    for j in range(len(matrix[0])):\n",
    "        result[j][i]=matrix[i][j]\n",
    "result"
   ]
  },
  {
   "cell_type": "markdown",
   "id": "e11cc6b2-3e02-4904-ae33-510f96b48136",
   "metadata": {},
   "source": [
    "### 48. List of Lists Concatenation: Given a list of nested lists, write a Python program to concatenate all the sublists into a single flat list."
   ]
  },
  {
   "cell_type": "code",
   "execution_count": 13,
   "id": "9f9f70ec-ca18-4aca-9139-a8e05a723395",
   "metadata": {},
   "outputs": [
    {
     "data": {
      "text/plain": [
       "[1, 2, 3, 4, 5, 6, 7, 8, 9]"
      ]
     },
     "execution_count": 13,
     "metadata": {},
     "output_type": "execute_result"
    }
   ],
   "source": [
    "def flat(lst):\n",
    "    flat_list=[]\n",
    "    for item in lst:\n",
    "        if isinstance(item, list):\n",
    "            flat_list.extend(flat(item))\n",
    "        else:\n",
    "            flat_list.append(item)\n",
    "    return flat_list\n",
    "\n",
    "nested_list = [[1, 2, [3, 4]], [5, 6], [7, [8, 9]]]\n",
    "flattened_list=flat(nested_list)\n",
    "flattened_list"
   ]
  },
  {
   "cell_type": "markdown",
   "id": "ca513c1a-3271-498f-9a2c-7fdf4d86612b",
   "metadata": {},
   "source": [
    "### 49. Tuple Concatenation: Write a Python program to concatenate two tuples and create a new tuple."
   ]
  },
  {
   "cell_type": "code",
   "execution_count": 1,
   "id": "b4734ff2-4566-4ce4-97e9-498f20ad0e4b",
   "metadata": {},
   "outputs": [
    {
     "name": "stdout",
     "output_type": "stream",
     "text": [
      "(1, 3, 5, 4, 6)\n"
     ]
    }
   ],
   "source": [
    "t1 = (1, 3, 5)\n",
    "t2 = (4, 6)\n",
    "t3=t1+t2\n",
    "print(t3)"
   ]
  },
  {
   "cell_type": "markdown",
   "id": "ca8ca5b0-6cdc-435e-a8fd-15d0869ad937",
   "metadata": {},
   "source": [
    "### 50. Tuple Unpacking: Given a tuple with three elements (x, y, z), write a Python program to unpack the tuple and assign the values to three variables."
   ]
  },
  {
   "cell_type": "code",
   "execution_count": 2,
   "id": "27531267-31a4-4e15-80f5-6b2829dc5e67",
   "metadata": {},
   "outputs": [
    {
     "name": "stdout",
     "output_type": "stream",
     "text": [
      "Hello\n",
      "234\n",
      "World\n"
     ]
    }
   ],
   "source": [
    "a = (\"Hello\", 234, \"World\") \n",
    "(x,y,z)=a\n",
    "print(x)\n",
    "print(y)\n",
    "print(z)"
   ]
  },
  {
   "cell_type": "markdown",
   "id": "ff90dfb5-eab1-4896-acb5-09a0875e722b",
   "metadata": {},
   "source": [
    "### 51. Tuple Sorting: Write a Python program to sort a tuple of integers in ascending order."
   ]
  },
  {
   "cell_type": "code",
   "execution_count": 4,
   "id": "bc117149-eb74-455e-96e3-bdc1ba010e8a",
   "metadata": {},
   "outputs": [
    {
     "name": "stdout",
     "output_type": "stream",
     "text": [
      "Sorted Tuple : (2, 4, 5, 6, 6, 8)\n"
     ]
    }
   ],
   "source": [
    "tuple_=(6,4,6,2,8,5)\n",
    "sorted_ = tuple(sorted(tuple_))  \n",
    "print('Sorted Tuple :', sorted_)  "
   ]
  },
  {
   "cell_type": "markdown",
   "id": "f82abb3a-d62f-45fc-b1ff-eec13cbf62d9",
   "metadata": {},
   "source": [
    "### 52. Tuple Frequency Count: Given a tuple containing various elements, write a Python program to count the frequency of a specific element in the tuple."
   ]
  },
  {
   "cell_type": "code",
   "execution_count": 5,
   "id": "99c9499f-5693-43f3-8580-4b6f82201408",
   "metadata": {},
   "outputs": [
    {
     "name": "stdin",
     "output_type": "stream",
     "text": [
      "Which digit's frequency you want to count? 5\n"
     ]
    },
    {
     "name": "stdout",
     "output_type": "stream",
     "text": [
      "4\n"
     ]
    }
   ],
   "source": [
    "tuple_=(6,4,6,2,8,5,2,4,5,7,1,3,4,6,8,5,3,6,8,9,3,5,7)\n",
    "x=int(input(\"Which digit's frequency you want to count?\"))\n",
    "freq=0\n",
    "for i in tuple_:\n",
    "    if i==x:\n",
    "        freq=freq+1\n",
    "print(freq)"
   ]
  },
  {
   "cell_type": "markdown",
   "id": "cce4896b-b215-4d75-8aa5-c55097ad451a",
   "metadata": {},
   "source": [
    "### 53. Tuple to List: Write a Python program to convert a tuple into a list."
   ]
  },
  {
   "cell_type": "code",
   "execution_count": 6,
   "id": "4f63b5f4-57e5-4314-b2a7-6780413214d2",
   "metadata": {},
   "outputs": [
    {
     "name": "stdout",
     "output_type": "stream",
     "text": [
      "[6, 4, 6, 2, 8, 5]\n"
     ]
    }
   ],
   "source": [
    "tuple_=(6,4,6,2,8,5)\n",
    "l1=list(tuple_)\n",
    "print(l1)"
   ]
  },
  {
   "cell_type": "markdown",
   "id": "e6116148-22b8-44f4-a368-ffb884c2c421",
   "metadata": {},
   "source": [
    "### 54. Tuple Reversal: Write a Python program to reverse a tuple without using any built-in functions."
   ]
  },
  {
   "cell_type": "code",
   "execution_count": 12,
   "id": "0b751388-4f8a-4955-9810-a9adfbe4ccf0",
   "metadata": {},
   "outputs": [
    {
     "name": "stdout",
     "output_type": "stream",
     "text": [
      "(5, 8, 2, 6, 4, 6)\n"
     ]
    }
   ],
   "source": [
    "tuple_values=(6,4,6,2,8,5)\n",
    "tuple_values = tuple_values[::-1]  \n",
    "print(tuple_values)"
   ]
  },
  {
   "cell_type": "markdown",
   "id": "fe04f524-0227-43ad-8c82-0a91d1a6f96c",
   "metadata": {},
   "source": [
    "### 55.  Tuple Slicing: Given a tuple, write a Python program to extract a slice of elements from it."
   ]
  },
  {
   "cell_type": "code",
   "execution_count": 24,
   "id": "671bcaa5-0517-4e8d-8ec0-9889249ac5cd",
   "metadata": {},
   "outputs": [
    {
     "name": "stdout",
     "output_type": "stream",
     "text": [
      "(6, 4, 6, 2, 8, 5)\n"
     ]
    },
    {
     "name": "stdin",
     "output_type": "stream",
     "text": [
      " 1 3\n"
     ]
    },
    {
     "name": "stdout",
     "output_type": "stream",
     "text": [
      "(4, 6)\n"
     ]
    }
   ],
   "source": [
    "tuple_values=(6,4,6,2,8,5)\n",
    "print(tuple_values)\n",
    "x, y = map(int, input().split())\n",
    "tuple_slice=tuple_values[x:y]\n",
    "print(tuple_slice)"
   ]
  },
  {
   "cell_type": "markdown",
   "id": "206c25ea-5f99-4a64-bfb0-8c9d9a893de2",
   "metadata": {},
   "source": [
    "### 56. Tuple Operations: Given two tuples of integers, write a Python program to perform element-wise addition, subtraction, and multiplication and create new tuples for each operation."
   ]
  },
  {
   "cell_type": "code",
   "execution_count": 25,
   "id": "557234e9-6f57-4fce-b504-3c221dd43b49",
   "metadata": {},
   "outputs": [
    {
     "name": "stdout",
     "output_type": "stream",
     "text": [
      "Multiplication tuple : (48, 12, 36, 2)\n",
      "Addition tuple : (14, 8, 13, 3)\n",
      "Subtraction tuple : (-2, -4, 5, -1)\n"
     ]
    }
   ],
   "source": [
    "tuple1 = (6, 2, 9, 1)\n",
    "tuple2 = (8, 6, 4, 2)\n",
    "\n",
    "mulTuple = tuple(tup1Ele * tup2Ele for tup1Ele, tup2Ele in zip(tuple1, tuple2))\n",
    "addTuple = tuple(tup1Ele + tup2Ele for tup1Ele, tup2Ele in zip(tuple1, tuple2))\n",
    "subTuple = tuple(tup1Ele - tup2Ele for tup1Ele, tup2Ele in zip(tuple1, tuple2))\n",
    "\n",
    "# Printing result\n",
    "print(\"Multiplication tuple : \" + str(mulTuple))\n",
    "print(\"Addition tuple : \" + str(addTuple))\n",
    "print(\"Subtraction tuple : \" + str(subTuple))"
   ]
  },
  {
   "cell_type": "markdown",
   "id": "324b81da-1265-4662-a142-405024c7d163",
   "metadata": {},
   "source": [
    "### 57. Tuple Membership Test: Write a Python program that takes an element as input and checks if it exists in a given tuple."
   ]
  },
  {
   "cell_type": "code",
   "execution_count": 27,
   "id": "7fbf5b0a-bdda-41a2-aba2-5b378dc9bdba",
   "metadata": {},
   "outputs": [
    {
     "name": "stdin",
     "output_type": "stream",
     "text": [
      "Enter the value you want to check:  2\n"
     ]
    },
    {
     "name": "stdout",
     "output_type": "stream",
     "text": [
      "['yes']\n"
     ]
    }
   ],
   "source": [
    "tuple_values=(6,4,6,2,8,5)\n",
    "el=int(input(\"Enter the value you want to check: \"))\n",
    "res=[i for i in tuple_values if i==el]\n",
    "print([\"yes\" if res else \"no\"])\n",
    "            "
   ]
  },
  {
   "cell_type": "markdown",
   "id": "6e210296-03ea-4284-a4fa-321544adb82d",
   "metadata": {},
   "source": [
    "### 58. Tuple Packing: Write a Python program to pack three variables into a single tuple and print the tuple."
   ]
  },
  {
   "cell_type": "code",
   "execution_count": 29,
   "id": "cef5880e-da0b-4b7f-b12d-eef9cafeb416",
   "metadata": {},
   "outputs": [
    {
     "name": "stdout",
     "output_type": "stream",
     "text": [
      "('Hello', 42, [1, 2, 3])\n"
     ]
    }
   ],
   "source": [
    "var1 = \"Hello\"\n",
    "var2 = 42\n",
    "var3 = [1, 2, 3]\n",
    "packed_tuple = (var1, var2, var3)\n",
    "print(packed_tuple)"
   ]
  },
  {
   "cell_type": "markdown",
   "id": "6629f0a5-a0b5-4a5b-a28c-76ca5318e6de",
   "metadata": {},
   "source": [
    "### 59. Nested List Element Access: Given a nested list, write a Python program to access and print specific elements from it."
   ]
  },
  {
   "cell_type": "code",
   "execution_count": 2,
   "id": "c34a79c4-a925-4727-9dfa-94100ad22340",
   "metadata": {},
   "outputs": [
    {
     "name": "stdin",
     "output_type": "stream",
     "text": [
      "Which list (0-3) you want to access:  1\n",
      "Which index (0-3) you want to access:  1\n"
     ]
    },
    {
     "name": "stdout",
     "output_type": "stream",
     "text": [
      "Sam\n"
     ]
    }
   ],
   "source": [
    "MyList = [[22, 14, 16], [\"Joe\", \"Sam\", \"Abel\"], [True, False, True]]\n",
    "x=int(input(\"Which list (0-3) you want to access: \"))\n",
    "y=int(input(\"Which index (0-3) you want to access: \"))\n",
    "print(MyList[x][y])"
   ]
  },
  {
   "cell_type": "markdown",
   "id": "de62be49-b1d6-49c5-abb6-1fff0f619754",
   "metadata": {},
   "source": [
    "### 60. Nested List Flattening: Write a Python program to flatten a nested list and convert it into a single-dimensional list."
   ]
  },
  {
   "cell_type": "code",
   "execution_count": 3,
   "id": "46a437c3-1d1e-4448-8a60-9f523c53b2e4",
   "metadata": {},
   "outputs": [
    {
     "name": "stdout",
     "output_type": "stream",
     "text": [
      "[22, 14, 16, 'Joe', 'Sam', 'Abel', True, False, True]\n"
     ]
    }
   ],
   "source": [
    "nestedlist = [[22, 14, 16], [\"Joe\", \"Sam\", \"Abel\"], [True, False, True]]\n",
    "flatlist = [element for sub_list in nestedlist for element in sub_list] \n",
    "print(flatlist)"
   ]
  },
  {
   "cell_type": "markdown",
   "id": "2ac43bff-866c-4fe2-8d9d-8a42f98b946b",
   "metadata": {},
   "source": [
    "### 61. Nested List Sorting: Given a nested list containing lists of integers, write a Python program to sort the sublists based on their lengths."
   ]
  },
  {
   "cell_type": "code",
   "execution_count": 15,
   "id": "da1c7b85-653c-4def-a64e-94e12ef624ba",
   "metadata": {},
   "outputs": [
    {
     "name": "stdout",
     "output_type": "stream",
     "text": [
      "initial list [[1, 2, 3], [1, 2], [1, 2, 3, 4], [1, 2, 3, 4, 5], [2, 4, 6]]\n",
      "final list [[1, 2, 3], [1, 2], [1, 2, 3, 4], [1, 2, 3, 4, 5], [2, 4, 6]]\n"
     ]
    }
   ],
   "source": [
    "list1 = [[1, 2, 3], [1, 2], [1, 2, 3, 4], [1, 2, 3, 4, 5], [2, 4, 6]]\n",
    "print (\"initial list\", str(list1))\n",
    "list.sort(key = len)\n",
    "print(\"final list\", str(list1))"
   ]
  },
  {
   "cell_type": "markdown",
   "id": "78d5ac49-e3c1-46f8-a80d-fe6e54848b32",
   "metadata": {},
   "source": [
    "### 62. List of Tuples Conversion: Given a nested list containing tuples of (x, y) coordinates, write a Python program to convert it into a list of x-coordinates and a list of y-coordinates."
   ]
  },
  {
   "cell_type": "code",
   "execution_count": 8,
   "id": "aae630fb-cc25-45f7-a32e-413280cdd8f4",
   "metadata": {},
   "outputs": [
    {
     "name": "stdout",
     "output_type": "stream",
     "text": [
      "['Geeks', 'For', 'geek']\n",
      "[2, 4, '6']\n"
     ]
    }
   ],
   "source": [
    "lt = [('Geeks', 2), ('For', 4), ('geek', '6')]\n",
    "x_cord = []\n",
    "y_cord=[]\n",
    "for t in lt:\n",
    "    x_cord.append(t[0])\n",
    "    y_cord.append(t[1])\n",
    "print(x_cord)\n",
    "print(y_cord)"
   ]
  },
  {
   "cell_type": "markdown",
   "id": "6005decc-9c7a-4ff8-8463-22fb982b807a",
   "metadata": {},
   "source": [
    "### 63. Matrix Transpose: Write a Python program to transpose a given matrix represented as a nested list."
   ]
  },
  {
   "cell_type": "code",
   "execution_count": 9,
   "id": "cde18e89-98c3-4c61-9aab-95898c877b6f",
   "metadata": {},
   "outputs": [
    {
     "data": {
      "text/plain": [
       "[[1, 4, 7], [2, 5, 8], [3, 6, 9]]"
      ]
     },
     "execution_count": 9,
     "metadata": {},
     "output_type": "execute_result"
    }
   ],
   "source": [
    "matrix = [[1, 2, 3],\n",
    "           [4, 5, 6],\n",
    "           [7, 8, 9]]\n",
    "result=[[0 for _ in range(len(matrix[0]))] for _ in range(len(matrix))]\n",
    "for i in range(len(matrix[0])):\n",
    "    for j in range(len(matrix[0])):\n",
    "        result[j][i]=matrix[i][j]\n",
    "result"
   ]
  },
  {
   "cell_type": "markdown",
   "id": "96d9de7f-0092-4ab3-b2a6-9bafb59af60a",
   "metadata": {},
   "source": [
    "#### 64. Nested List Concatenation: Given a list of nested lists, write a Python program to concatenate all the sublists into a single flat list."
   ]
  },
  {
   "cell_type": "code",
   "execution_count": 17,
   "id": "17a0416e-8df6-4cc0-bd90-d9258203f5ff",
   "metadata": {},
   "outputs": [
    {
     "name": "stdout",
     "output_type": "stream",
     "text": [
      "New list [11, 22, 33, 44, 55, 66, 77, 88, 99]\n"
     ]
    }
   ],
   "source": [
    "lis = [[11, 22, 33, 44], [55, 66, 77], [88, 99]] \n",
    "flatList = sum(lis, []) \n",
    "print('New list', flatList)"
   ]
  },
  {
   "cell_type": "markdown",
   "id": "bd558cb1-3e71-4824-9c34-4e04a43d6042",
   "metadata": {},
   "source": [
    "### 65. Count Even Numbers: Write a Python program to count the number of even numbers in a nested list."
   ]
  },
  {
   "cell_type": "code",
   "execution_count": 18,
   "id": "3d6b22f4-456d-4044-b61c-832553588ae4",
   "metadata": {},
   "outputs": [
    {
     "name": "stdout",
     "output_type": "stream",
     "text": [
      "4\n"
     ]
    }
   ],
   "source": [
    "lis = [[11, 22, 33, 44], [55, 66, 77], [88, 99]] \n",
    "even=0\n",
    "for i in lis:\n",
    "    for t in i:\n",
    "        if t%2==0:\n",
    "            even=even+1\n",
    "print(even)"
   ]
  },
  {
   "cell_type": "markdown",
   "id": "4a1123e3-b74f-43ab-b093-ff752d3aadcf",
   "metadata": {},
   "source": [
    "### 66. Maximum Element in Nested List: Write a Python program to find the maximum element in a nested list of integers."
   ]
  },
  {
   "cell_type": "code",
   "execution_count": 19,
   "id": "4e9d7f5c-9860-41cb-a051-231b41e12742",
   "metadata": {},
   "outputs": [
    {
     "name": "stdout",
     "output_type": "stream",
     "text": [
      "99\n"
     ]
    }
   ],
   "source": [
    "lis = [[11, 22, 33, 44], [55, 66, 77], [88, 99]] \n",
    "max=-1\n",
    "for i in lis:\n",
    "    for t in i:\n",
    "        if max<t:\n",
    "            max=t\n",
    "print(max)"
   ]
  },
  {
   "cell_type": "markdown",
   "id": "c43f8a6f-adf0-4cff-a975-f85167c40ef3",
   "metadata": {},
   "source": [
    "### 67. Diagonal Sum of Matrix: Given a square matrix represented as a nested list, write a Python program to calculate the sum of the elements in the main diagonal."
   ]
  },
  {
   "cell_type": "code",
   "execution_count": 22,
   "id": "cbd9267a-9a00-4316-870a-35bd03c3e923",
   "metadata": {},
   "outputs": [
    {
     "name": "stdout",
     "output_type": "stream",
     "text": [
      "15\n"
     ]
    }
   ],
   "source": [
    "matrix = [[1, 2, 3],\n",
    "           [4, 5, 6],\n",
    "           [7, 8, 9]]\n",
    "sum=0\n",
    "for i in range(len(matrix)):\n",
    "    for j in range(len(matrix[0])):\n",
    "        if i==j:\n",
    "            sum=sum+matrix[i][j]\n",
    "print(sum)"
   ]
  },
  {
   "cell_type": "markdown",
   "id": "a8cf935f-4281-489a-9be0-503d4f687065",
   "metadata": {},
   "source": [
    "### 68. Nested List Element Search: Write a Python program to search for a specific element in a nested list and return its position (row and column indices)."
   ]
  },
  {
   "cell_type": "code",
   "execution_count": 29,
   "id": "994fe3a4-dcc8-4b76-89e1-92ffbc6d0dca",
   "metadata": {},
   "outputs": [
    {
     "name": "stdin",
     "output_type": "stream",
     "text": [
      "Which digit you want to search (0-9):  5\n"
     ]
    },
    {
     "name": "stdout",
     "output_type": "stream",
     "text": [
      "5 element found in 2 row and 2 column\n"
     ]
    }
   ],
   "source": [
    "matrix = [[1, 2, 3],\n",
    "           [4, 5, 6],\n",
    "           [7, 8, 9]]\n",
    "x=int(input(\"Which digit you want to search (0-9): \"))\n",
    "for i in range(len(matrix)):\n",
    "    for j in range(len(matrix[0])):\n",
    "        if x==matrix[i][j]:\n",
    "            print(\"{} element found in {} row and {} column\".format(x,i+1,j+1))\n",
    "            break"
   ]
  },
  {
   "cell_type": "markdown",
   "id": "2759a5fc-ca20-46c7-a1b5-7c12f74314bf",
   "metadata": {},
   "source": [
    "### 69. Duplicate Removal: Write a Python program that takes a list of elements as input and creates a new set containing only the unique elements from the list."
   ]
  },
  {
   "cell_type": "code",
   "execution_count": 32,
   "id": "4f6490f1-9b19-4204-844f-7a3d64485c3f",
   "metadata": {},
   "outputs": [
    {
     "name": "stdout",
     "output_type": "stream",
     "text": [
      "{1, 2, 3, 4, 5, 6, 7, 8, 9}\n"
     ]
    }
   ],
   "source": [
    "li_=[6,4,6,2,8,5,2,4,5,7,1,3,4,6,8,5,3,6,8,9,3,5,7]\n",
    "set_=set(li_)\n",
    "print(set_)"
   ]
  },
  {
   "cell_type": "markdown",
   "id": "03eef65c-af1b-4be2-ac0d-2565f615f1e6",
   "metadata": {},
   "source": [
    "### 70. Set Intersection: Given two sets A and B, write a Python program to find their intersection and print the common elements."
   ]
  },
  {
   "cell_type": "code",
   "execution_count": 33,
   "id": "397e573a-9441-4db4-8b76-5f991712bef6",
   "metadata": {},
   "outputs": [
    {
     "name": "stdout",
     "output_type": "stream",
     "text": [
      "{3, 5}\n"
     ]
    }
   ],
   "source": [
    "A = {2, 3, 5}\n",
    "B = {1, 3, 5}\n",
    "\n",
    "print(A.intersection(B))"
   ]
  },
  {
   "cell_type": "markdown",
   "id": "ce9ef543-1b48-4943-a6a9-1cc7ce8558d5",
   "metadata": {},
   "source": [
    "### 71. Set Union: Given two sets A and B, write a Python program to find their union and print all the distinct elements from both sets."
   ]
  },
  {
   "cell_type": "code",
   "execution_count": 34,
   "id": "4fe61a82-b846-4f4f-af15-081b25ab8d91",
   "metadata": {},
   "outputs": [
    {
     "name": "stdout",
     "output_type": "stream",
     "text": [
      "{1, 2, 3, 5}\n"
     ]
    }
   ],
   "source": [
    "A = {2, 3, 5}\n",
    "B = {1, 3, 5}\n",
    "\n",
    "print(A.union(B))"
   ]
  },
  {
   "cell_type": "markdown",
   "id": "fae63555-ef05-4c60-b0eb-0fce2ea3a0a0",
   "metadata": {},
   "source": [
    "### 72. Set Difference: Given two sets A and B, write a Python program to find the difference between set A and set B (i.e., elements present in A but not in B) and print the result."
   ]
  },
  {
   "cell_type": "code",
   "execution_count": 35,
   "id": "a85463c3-b216-4cd9-a8fe-a80d2fec8446",
   "metadata": {},
   "outputs": [
    {
     "name": "stdout",
     "output_type": "stream",
     "text": [
      "{2}\n"
     ]
    }
   ],
   "source": [
    "A = {2, 3, 5}\n",
    "B = {1, 3, 5}\n",
    "\n",
    "print(A.difference(B))"
   ]
  },
  {
   "cell_type": "markdown",
   "id": "74bb5221-a0ac-4695-ae05-b3a593b2f291",
   "metadata": {},
   "source": [
    "### 73. Set Symmetric Difference: Given two sets A and B, write a Python program to find the symmetric difference between the two sets (i.e., elements that are present in either set A or set B, but not in both) and print the result."
   ]
  },
  {
   "cell_type": "code",
   "execution_count": 36,
   "id": "8a4814fb-b93f-47ac-a3ad-0350cddcdff4",
   "metadata": {},
   "outputs": [
    {
     "name": "stdout",
     "output_type": "stream",
     "text": [
      "{1, 2}\n"
     ]
    }
   ],
   "source": [
    "A = {2, 3, 5}\n",
    "B = {1, 3, 5}\n",
    "\n",
    "print(A.symmetric_difference(B))"
   ]
  },
  {
   "cell_type": "markdown",
   "id": "8c323ee4-7edb-4960-b51e-b9af4f11a0bb",
   "metadata": {},
   "source": [
    "### 74. Set Operations: Given three sets A, B, and C, write a Python program to find and print the intersection of A and B, the union of B and C, and the difference between C and A."
   ]
  },
  {
   "cell_type": "code",
   "execution_count": 37,
   "id": "62f0d3d9-f737-4e33-ae51-aa936e9a355e",
   "metadata": {},
   "outputs": [
    {
     "name": "stdout",
     "output_type": "stream",
     "text": [
      "{4, 6}\n",
      "{0, 1, 4, 6, 7, 8, 12}\n",
      "{0, 1, 12}\n"
     ]
    }
   ],
   "source": [
    "A = {2, 4, 5, 6}\n",
    "B = {4, 6, 7, 8}\n",
    "C = {1, 0, 12}\n",
    "\n",
    "a_int_b=A.intersection(B)\n",
    "b_union_c=B.union(C)\n",
    "c_diff_a=C.difference(A)\n",
    "\n",
    "print(a_int_b)\n",
    "print(b_union_c)\n",
    "print(c_diff_a)"
   ]
  },
  {
   "cell_type": "markdown",
   "id": "07d00e09-9454-4a58-b47e-cb5e3e48d60e",
   "metadata": {},
   "source": [
    "### 75. Set Subset Check: Given two sets A and B, write a Python program to check if set A is a subset of set B and print the result."
   ]
  },
  {
   "cell_type": "code",
   "execution_count": 38,
   "id": "b8673064-ae6a-469c-8f30-bc71f34a0529",
   "metadata": {},
   "outputs": [
    {
     "name": "stdout",
     "output_type": "stream",
     "text": [
      "False\n"
     ]
    }
   ],
   "source": [
    "A = {2, 3, 5}\n",
    "B = {1, 3, 5}\n",
    "print(A.issubset(B))"
   ]
  },
  {
   "cell_type": "markdown",
   "id": "3aee771a-4ba6-40d5-bdd2-a4339384804d",
   "metadata": {},
   "source": [
    "### 76. Set Superset Check: Given two sets A and B, write a Python program to check if set A is a superset of set B and print the result."
   ]
  },
  {
   "cell_type": "code",
   "execution_count": 39,
   "id": "57d6ddd8-aa2b-4f18-b0bf-03f98cac54c0",
   "metadata": {},
   "outputs": [
    {
     "name": "stdout",
     "output_type": "stream",
     "text": [
      "False\n"
     ]
    }
   ],
   "source": [
    "A = {2, 3, 5}\n",
    "B = {1, 3, 5}\n",
    "print(A.issuperset(B))"
   ]
  },
  {
   "cell_type": "markdown",
   "id": "db48ac5f-920b-4da3-bde6-6a4b0d46edce",
   "metadata": {},
   "source": [
    "### 77. Set Length Check: Write a Python program that takes a set as input and prints the number of elements in the set."
   ]
  },
  {
   "cell_type": "code",
   "execution_count": 40,
   "id": "54caf069-783d-4679-942f-d86936130d67",
   "metadata": {},
   "outputs": [
    {
     "name": "stdout",
     "output_type": "stream",
     "text": [
      "4\n"
     ]
    }
   ],
   "source": [
    "A = {2, 4, 5, 6}\n",
    "print(len(A))"
   ]
  },
  {
   "cell_type": "markdown",
   "id": "75c15290-f058-4c95-adf9-08685d3762d2",
   "metadata": {},
   "source": [
    "### 78. Set Membership Test: Write a Python program that takes an element as input and checks if it exists in a given set. Print “Found” if the element is present and “Not Found” otherwise."
   ]
  },
  {
   "cell_type": "code",
   "execution_count": 42,
   "id": "c29b5397-e78c-4662-ada7-e13c786b7ce8",
   "metadata": {},
   "outputs": [
    {
     "name": "stdin",
     "output_type": "stream",
     "text": [
      "Element to be checked:  3\n"
     ]
    },
    {
     "name": "stdout",
     "output_type": "stream",
     "text": [
      "False\n"
     ]
    }
   ],
   "source": [
    "A = {2, 4, 5, 6}\n",
    "x=int(input(\"Element to be checked: \"))\n",
    "print(x in A)"
   ]
  },
  {
   "cell_type": "markdown",
   "id": "2d74feda-d500-4039-8b50-05fd05aac047",
   "metadata": {},
   "source": [
    "### 77. Dictionary Manipulation: Given a dictionary with student names as keys and their corresponding scores as values, write a Python program to add a new student to the dictionary and update the score of an existing student."
   ]
  },
  {
   "cell_type": "code",
   "execution_count": 1,
   "id": "fabcaadd-6933-454c-84ec-19692760c395",
   "metadata": {},
   "outputs": [
    {
     "name": "stdout",
     "output_type": "stream",
     "text": [
      "{'Ramisha': 91, 'Anika': 89, 'Faria': 90, 'Sazia': 98, 'Aliya': 96}\n"
     ]
    }
   ],
   "source": [
    "dct={\"Ramisha\":86,\"Anika\":89,\"Faria\":90,\"Sazia\":98}\n",
    "dct.update({\"Aliya\":96})\n",
    "dct.update({\"Ramisha\":91})\n",
    "print(dct)"
   ]
  },
  {
   "cell_type": "markdown",
   "id": "43370255-1a99-41ed-bf6e-59ab30abb2f6",
   "metadata": {},
   "source": [
    "### 78. Dictionary Keys and Values: Write a Python program that takes a dictionary as input and prints all the keys and values in separate lines."
   ]
  },
  {
   "cell_type": "code",
   "execution_count": 2,
   "id": "6af637bc-03e4-4eec-9af4-43e873f6da69",
   "metadata": {},
   "outputs": [
    {
     "name": "stdout",
     "output_type": "stream",
     "text": [
      "Ramisha Anika Faria Sazia Aliya \n",
      "91 89 90 98 96 "
     ]
    }
   ],
   "source": [
    "data={'Ramisha': 91, 'Anika': 89, 'Faria': 90, 'Sazia': 98, 'Aliya': 96}\n",
    "for key, values in data.items():\n",
    "  print(key, end=\" \")\n",
    "print()\n",
    "for key, values in data.items():\n",
    "  print(values, end=\" \")"
   ]
  },
  {
   "cell_type": "markdown",
   "id": "3c2bc550-2079-40e9-b40c-9a3b911e1b11",
   "metadata": {},
   "source": [
    "### 79. Dictionary Length: Write a Python program to calculate and print the number of key-value pairs in a given dictionary."
   ]
  },
  {
   "cell_type": "code",
   "execution_count": 3,
   "id": "891eea49-cbf9-49dc-a2f1-44aac1042ab4",
   "metadata": {},
   "outputs": [
    {
     "name": "stdout",
     "output_type": "stream",
     "text": [
      "5\n"
     ]
    }
   ],
   "source": [
    "data={'Ramisha': 91, 'Anika': 89, 'Faria': 90, 'Sazia': 98, 'Aliya': 96}\n",
    "print(len(data))"
   ]
  },
  {
   "cell_type": "markdown",
   "id": "b6ff3094-782e-48d4-9e6f-863307268710",
   "metadata": {},
   "source": [
    "### 80. Dictionary Value Search: Given a dictionary of items and their prices, write a Python program to search for an item based on its price and print the item’s name."
   ]
  },
  {
   "cell_type": "code",
   "execution_count": 5,
   "id": "7dfb7595-12d5-4ba7-bea1-f787ead3d4d1",
   "metadata": {},
   "outputs": [
    {
     "name": "stdin",
     "output_type": "stream",
     "text": [
      "Input the price of the item:  100\n"
     ]
    },
    {
     "name": "stdout",
     "output_type": "stream",
     "text": [
      "Gold\n"
     ]
    }
   ],
   "source": [
    "price={\"Gold\":100,\"Silver\":90,\"Bronze\":86,\"Copper\":56}\n",
    "x=int(input(\"Input the price of the item: \"))\n",
    "for key,values in price.items():\n",
    "  if(x==values):\n",
    "    print(key)"
   ]
  },
  {
   "cell_type": "markdown",
   "id": "5cc5ccf3-f661-4143-a5b8-9d960e1dd2e3",
   "metadata": {},
   "source": [
    "### 81. Dictionary Merging: Given two dictionaries, write a Python program to merge them into a single dictionary and print the result."
   ]
  },
  {
   "cell_type": "code",
   "execution_count": 6,
   "id": "8aa2389b-38fc-4045-8a05-6e63721f8cc2",
   "metadata": {},
   "outputs": [
    {
     "name": "stdout",
     "output_type": "stream",
     "text": [
      "{'Ramisha': 91, 'Anika': 89, 'Faria': 90, 'Sazia': 98, 'Aliya': 96, 'Gold': 100, 'Silver': 90, 'Bronze': 86, 'Copper': 56}\n"
     ]
    }
   ],
   "source": [
    "price={\"Gold\":100,\"Silver\":90,\"Bronze\":86,\"Copper\":56}\n",
    "data={'Ramisha': 91, 'Anika': 89, 'Faria': 90, 'Sazia': 98, 'Aliya': 96}\n",
    "data.update(price)\n",
    "print(data)"
   ]
  },
  {
   "cell_type": "markdown",
   "id": "468deea4-6bd2-4f2e-8773-b9fc548bb147",
   "metadata": {},
   "source": [
    "### 82. Dictionary Key Removal: Given a dictionary of items and their quantities, write a Python program to remove a specific item from the dictionary based on user input."
   ]
  },
  {
   "cell_type": "code",
   "execution_count": 7,
   "id": "6cc340ed-502d-4439-ae82-5609fc25fe28",
   "metadata": {},
   "outputs": [
    {
     "name": "stdin",
     "output_type": "stream",
     "text": [
      "Input the name of the item to be removed:  Gold\n"
     ]
    },
    {
     "name": "stdout",
     "output_type": "stream",
     "text": [
      "{'Silver': 90, 'Bronze': 86, 'Copper': 56}\n"
     ]
    }
   ],
   "source": [
    "price={\"Gold\":100,\"Silver\":90,\"Bronze\":86,\"Copper\":56}\n",
    "x=input(\"Input the name of the item to be removed: \")\n",
    "price.pop(x)\n",
    "print(price)"
   ]
  },
  {
   "cell_type": "markdown",
   "id": "849f3739-336d-4191-a50b-584f7a3419fd",
   "metadata": {},
   "source": [
    "### 83. Dictionary Sorting: Given a dictionary with names as keys and corresponding ages as values, write a Python program to sort the dictionary based on age in ascending order."
   ]
  },
  {
   "cell_type": "code",
   "execution_count": 9,
   "id": "eeef7303-cd6f-4b1c-9a6b-70308f6d6e1e",
   "metadata": {},
   "outputs": [
    {
     "name": "stdout",
     "output_type": "stream",
     "text": [
      "{'ramisha': 10, 'anika': 9, 'sazia': 15, 'yasha': 2, 'faria': 32}\n",
      "{'yasha': 2, 'anika': 9, 'ramisha': 10, 'sazia': 15, 'faria': 32}\n"
     ]
    }
   ],
   "source": [
    "from collections import OrderedDict\n",
    "import numpy as np\n",
    "\n",
    "dict = {'ramisha': 10, 'anika': 9,\n",
    "        'sazia': 15, 'yasha': 2, 'faria': 32}\n",
    "print(dict)\n",
    "\n",
    "keys = list(dict.keys())\n",
    "values = list(dict.values())\n",
    "sorted_value_index = np.argsort(values)\n",
    "sorted_dict = {keys[i]: values[i] for i in sorted_value_index}\n",
    "\n",
    "print(sorted_dict)"
   ]
  },
  {
   "cell_type": "markdown",
   "id": "18e4bac1-88a5-47a0-991c-8c03d172ac03",
   "metadata": {},
   "source": [
    "### 84. Dictionary Frequency Count: Write a Python program that takes a string as input and creates a dictionary containing each character as a key and its frequency as the value."
   ]
  },
  {
   "cell_type": "code",
   "execution_count": 10,
   "id": "e9c91d58-66ab-4a6c-a337-c067019d7c71",
   "metadata": {},
   "outputs": [
    {
     "name": "stdin",
     "output_type": "stream",
     "text": [
      "Input a string:  hello\n"
     ]
    },
    {
     "name": "stdout",
     "output_type": "stream",
     "text": [
      "{'h': 1, 'e': 1, 'l': 2, 'o': 1}\n"
     ]
    }
   ],
   "source": [
    "string=input(\"Input a string: \")\n",
    "a_dict={}\n",
    "length=len(string)\n",
    "for i in range(length):\n",
    "  if string[i] in a_dict:\n",
    "    a_dict[string[i]]=a_dict[string[i]]+1\n",
    "  else:\n",
    "    a_dict = {**a_dict, string[i]: 1}\n",
    "print(a_dict)"
   ]
  },
  {
   "cell_type": "markdown",
   "id": "8b536ace-8356-4331-a945-fcbacee64cf9",
   "metadata": {},
   "source": [
    "### 85. Dictionary Comprehension: Given a list of integers, write a Python program to create a dictionary where the keys are the elements from the list, and the values are their squares."
   ]
  },
  {
   "cell_type": "code",
   "execution_count": 11,
   "id": "444d25c2-44c2-4c09-9177-7f9cea3caead",
   "metadata": {},
   "outputs": [
    {
     "name": "stdout",
     "output_type": "stream",
     "text": [
      "{1: 1, 2: 4, 3: 9, 4: 16, 5: 25}\n"
     ]
    }
   ],
   "source": [
    "lst=[1,2,3,4,5]\n",
    "a_dict={}\n",
    "for i in lst:\n",
    "  a_dict={**a_dict, i: i*i}\n",
    "print(a_dict)"
   ]
  },
  {
   "cell_type": "markdown",
   "id": "66b92e04-e97d-4ed6-b254-9166dae16bdf",
   "metadata": {},
   "source": [
    "### 86. Dictionary Key Check: Write a Python program that takes a key as input and checks if it exists in a given dictionary. Print “Key Found” if the key is present and “Key Not Found” otherwise."
   ]
  },
  {
   "cell_type": "code",
   "execution_count": 12,
   "id": "19a00322-b0d0-40cf-9af5-339ed4180d89",
   "metadata": {},
   "outputs": [
    {
     "name": "stdin",
     "output_type": "stream",
     "text": [
      "Input the name of the item to be found:  Iron\n"
     ]
    },
    {
     "name": "stdout",
     "output_type": "stream",
     "text": [
      "Not Found :(\n"
     ]
    }
   ],
   "source": [
    "price={\"Gold\":100,\"Silver\":90,\"Bronze\":86,\"Copper\":56}\n",
    "x=input(\"Input the name of the item to be found: \")\n",
    "found=x in price\n",
    "if(found):\n",
    "  print(\"Key Found!\")\n",
    "else:\n",
    "  print(\"Not Found :(\")"
   ]
  },
  {
   "cell_type": "markdown",
   "id": "09d258e7-6249-4678-bfd3-1b5e8d11309a",
   "metadata": {},
   "source": [
    "### 87. Access Nested Dictionary: Given a nested dictionary containing student details, write a Python program to access and print specific information such as a student’s name, age, and address."
   ]
  },
  {
   "cell_type": "code",
   "execution_count": 13,
   "id": "24660324-d5df-4866-9ad9-adcc60e16b99",
   "metadata": {},
   "outputs": [
    {
     "name": "stdin",
     "output_type": "stream",
     "text": [
      "Input Roll  3\n"
     ]
    },
    {
     "name": "stdout",
     "output_type": "stream",
     "text": [
      "{'name': 'Doe', 'age': '21', 'sex': 'Male'}\n"
     ]
    }
   ],
   "source": [
    "people = {1: {'name': 'John', 'age': '27', 'sex': 'Male'},\n",
    "          2: {'name': 'Marie', 'age': '22', 'sex': 'Female'},\n",
    "          3: {'name': 'Doe', 'age': '21', 'sex': 'Male'}}\n",
    "x=int(input(\"Input Roll \"))\n",
    "print(people[x])"
   ]
  },
  {
   "cell_type": "markdown",
   "id": "3e139934-5811-4be0-a108-773652e738f2",
   "metadata": {},
   "source": [
    "### 88. Nested Dictionary Length: Write a Python program to calculate and print the total number of key-value pairs in a nested dictionary."
   ]
  },
  {
   "cell_type": "code",
   "execution_count": null,
   "id": "fb797a9a-b7c4-4729-923f-63c7885671dc",
   "metadata": {},
   "outputs": [],
   "source": [
    "def count(dictionary):\n",
    "    return (len(dictionary)+sum(count(value)\n",
    "                                for value in dictionary.values() if isinstance(value, dict)))\n",
    " \n",
    " \n",
    "# Example Usage:\n",
    "nested_dict = {'Dict1': {'name': 'Alice', 'age': '22', 'address': {'city': 'Wonderland'}},\n",
    "               'Dict2': {'name': 'Bob', 'age': '28', 'contacts': {'email': 'bob@example.com'}}}\n",
    " \n",
    "result = count(nested_dict)\n",
    "print(\"Total number of keys in the nested dictionary:\", result)"
   ]
  },
  {
   "cell_type": "markdown",
   "id": "bb3bbee4-1388-471e-8f54-1355a1a8a8b3",
   "metadata": {},
   "source": [
    "### 89. Nested Dictionary Update: Given a nested dictionary of employee details, write a Python program to update an employee’s salary based on their employee ID."
   ]
  },
  {
   "cell_type": "code",
   "execution_count": 23,
   "id": "4af94054-c27c-474a-927b-9a658548bf50",
   "metadata": {},
   "outputs": [
    {
     "name": "stdin",
     "output_type": "stream",
     "text": [
      "Input Employee ID  2\n",
      "Input Salary  999\n"
     ]
    },
    {
     "name": "stdout",
     "output_type": "stream",
     "text": [
      "H\n",
      "{1: {'name': 'John', 'age': '27', 'sex': 'Male', 'salary': 900}, 2: {'name': 'Marie', 'age': '22', 'sex': 'Female', 'salary': 999}, 3: {'name': 'Doe', 'age': '21', 'sex': 'Male', 'salary': 700}}\n"
     ]
    }
   ],
   "source": [
    "def update_salary(employee_details, emp_id, new_salary):\n",
    "    for empid,emp in employee_details.items():\n",
    "        if empid == emp_id:\n",
    "            emp['salary'] = new_salary\n",
    "            return True\n",
    "    return False\n",
    "\n",
    "\n",
    "people = {1: {'name': 'John', 'age': '27', 'sex': 'Male','salary':900},\n",
    "          2: {'name': 'Marie', 'age': '22', 'sex': 'Female','salary':890},\n",
    "          3: {'name': 'Doe', 'age': '21', 'sex': 'Male','salary':700}}\n",
    "x=int(input(\"Input Employee ID \"))\n",
    "y=int(input(\"Input Salary \"))\n",
    "update_salary(people, x, y)\n",
    "print(people)"
   ]
  },
  {
   "cell_type": "markdown",
   "id": "68ff9ec9-854b-4886-9dac-bc002aff7555",
   "metadata": {},
   "source": [
    "### 90. Nested Dictionary Sorting: Given a nested dictionary containing product details (product name, price, and quantity), write a Python program to sort the products based on their prices in ascending order."
   ]
  },
  {
   "cell_type": "code",
   "execution_count": 25,
   "id": "2faba80c-79c3-4b9b-a83d-642779e7eee8",
   "metadata": {},
   "outputs": [
    {
     "name": "stdout",
     "output_type": "stream",
     "text": [
      "[('Product1', {'Name': 'Mobile', 'Model': 'XUT', 'Units': 120, 'Available': 'Yes', 'Price': 1200}), ('Product3', {'Name': 'Laptop', 'Model': 'EEK', 'Units': 90, 'Available': 'Yes', 'Price': 1230}), ('Product2', {'Name': 'SmartTV', 'Model': 'LG', 'Units': 70, 'Available': 'Yes', 'Price': 1890})]\n"
     ]
    }
   ],
   "source": [
    "products= {\n",
    "\t\"Product1\" : {\n",
    "\t\t\"Name\":\"Mobile\",\n",
    "\t\t\"Model\": \"XUT\",\n",
    "\t\t\"Units\": 120,\n",
    "\t\t\"Available\": \"Yes\",\n",
    "        \"Price\":1200\n",
    "\t},\n",
    "\t\"Product2\" : {\n",
    "\t\t\"Name\":\"SmartTV\",\n",
    "\t\t\"Model\": \"LG\",\n",
    "\t\t\"Units\": 70,\n",
    "\t\t\"Available\": \"Yes\",\n",
    "        \"Price\":1890\n",
    "\t},\n",
    "\t\"Product3\" : {\n",
    "\t\t\"Name\":\"Laptop\",\n",
    "\t\t\"Model\": \"EEK\",\n",
    "\t\t\"Units\": 90,\n",
    "\t\t\"Available\": \"Yes\",\n",
    "        \"Price\":1230\n",
    "\t}\n",
    "}\n",
    "myproducts = sorted(products.items(), key=lambda x: x[1]['Price'])\n",
    "print(myproducts)\n"
   ]
  },
  {
   "cell_type": "markdown",
   "id": "92c87a4c-bab1-4b11-a521-cd69dd49c313",
   "metadata": {},
   "source": [
    "### 91. Nested Dictionary Key Search: Write a Python program that takes a key as input and searches for it in a nested dictionary. If found, print the corresponding value, otherwise, print “Key Not Found.”"
   ]
  },
  {
   "cell_type": "code",
   "execution_count": 35,
   "id": "6e9def8d-4d3f-421f-900e-194ba4250469",
   "metadata": {},
   "outputs": [
    {
     "name": "stdin",
     "output_type": "stream",
     "text": [
      "Input Employee ID (key)  2\n"
     ]
    },
    {
     "name": "stdout",
     "output_type": "stream",
     "text": [
      "Details for ID 2\n",
      "name: Marie\n",
      "age: 22\n",
      "sex: Female\n",
      "salary: 890\n"
     ]
    }
   ],
   "source": [
    "def findkey(people_dict,id):\n",
    "    if id in people_dict:\n",
    "        person_details = people_dict[id]\n",
    "        print(\"Details for ID\", id)\n",
    "        for key, value in person_details.items():\n",
    "            print(f\"{key}: {value}\")\n",
    "    else:\n",
    "        print(\"ID not found.\")\n",
    "\n",
    "\n",
    "people = {1: {'name': 'John', 'age': '27', 'sex': 'Male','salary':900},\n",
    "          2: {'name': 'Marie', 'age': '22', 'sex': 'Female','salary':890},\n",
    "          3: {'name': 'Doe', 'age': '21', 'sex': 'Male','salary':700}}\n",
    "x=int(input(\"Input Employee ID (key) \"))\n",
    "findkey(people, x)"
   ]
  },
  {
   "cell_type": "markdown",
   "id": "aa0e86cb-07be-4202-b5d4-1748bffdf6c9",
   "metadata": {},
   "source": [
    "### 92. Prime Number Checker: Write a Python program that takes a number as input and determines if it is a prime number or not. Use a `for` loop to check for factors. If a factor is found, `break` out of the loop."
   ]
  },
  {
   "cell_type": "code",
   "execution_count": 1,
   "id": "8f9eca27-2e1f-4ff2-8456-822e1cbd0935",
   "metadata": {},
   "outputs": [
    {
     "name": "stdin",
     "output_type": "stream",
     "text": [
      "Input a number:  90\n"
     ]
    },
    {
     "name": "stdout",
     "output_type": "stream",
     "text": [
      "90  is not a prime number\n"
     ]
    }
   ],
   "source": [
    "n=int(input(\"Input a number: \"))\n",
    "flag=1;\n",
    "if(n==2 or n==3):\n",
    "    print(n,\" is a prime number\")\n",
    "elif (n>3):\n",
    "    for i in range (2,int(n/2)):\n",
    "        if(n%i==0):\n",
    "            print(n,\" is not a prime number\")\n",
    "            flag=0\n",
    "            break\n",
    "    if(flag==1):\n",
    "        print(n,\" is a prime number\")    "
   ]
  },
  {
   "cell_type": "markdown",
   "id": "deb7c710-4d2e-49dd-92bd-1056ff6c0a2e",
   "metadata": {},
   "source": [
    "### 93. Even Number Printer: Write a Python program to print all even numbers from 1 to 20. Use a `for` loop and `continue` to skip odd numbers."
   ]
  },
  {
   "cell_type": "code",
   "execution_count": 3,
   "id": "40967d82-fea2-44e6-8d9c-2a04f9c10da0",
   "metadata": {},
   "outputs": [
    {
     "name": "stdout",
     "output_type": "stream",
     "text": [
      "2\n",
      "4\n",
      "6\n",
      "8\n",
      "10\n",
      "12\n",
      "14\n",
      "16\n",
      "18\n",
      "20\n"
     ]
    }
   ],
   "source": [
    "for i in range(1,21):\n",
    "    if i%2!=0:\n",
    "        continue\n",
    "    print(i)"
   ]
  },
  {
   "cell_type": "markdown",
   "id": "4d60af6c-fc9c-4b43-a393-acb015b427a0",
   "metadata": {},
   "source": [
    "### 94. Password Validator: Write a Python program that takes a password as input and checks if it meets the following criteria: at least 8 characters long, contains both uppercase and lowercase letters, and has at least one digit. If the password is valid, print “Password accepted.” If not, use `continue` to prompt the user to enter a valid password."
   ]
  },
  {
   "cell_type": "code",
   "execution_count": 9,
   "id": "8c3ad6de-f121-41e5-b967-f1459cf2ef0e",
   "metadata": {},
   "outputs": [
    {
     "name": "stdin",
     "output_type": "stream",
     "text": [
      "Input Password:  hihHKN45\n"
     ]
    },
    {
     "name": "stdout",
     "output_type": "stream",
     "text": [
      "Password Accepted\n"
     ]
    }
   ],
   "source": [
    "while(1):\n",
    "    n=input(\"Input Password: \")\n",
    "    if (len(n)<8):\n",
    "        continue\n",
    "    has_upper = any(char.isupper() for char in n)\n",
    "    has_lower = any(char.islower() for char in n)\n",
    "    has_digit = any(char.isdigit() for char in n)\n",
    "    if has_upper and has_lower and has_digit:\n",
    "        print(\"Password Accepted\")\n",
    "        break"
   ]
  },
  {
   "cell_type": "markdown",
   "id": "6171aa38-daa9-48a0-bae8-9eda1ec3b2cf",
   "metadata": {},
   "source": [
    "### 95. Divisible by 3 or 5: Write a Python program to print all numbers from 1 to 50 that are divisible by either 3 or 5. Use a `for` loop and `continue` to skip numbers that are not divisible by either 3 or 5."
   ]
  },
  {
   "cell_type": "code",
   "execution_count": 11,
   "id": "249f155e-04bc-4d52-acb6-269abf7039f5",
   "metadata": {},
   "outputs": [
    {
     "name": "stdout",
     "output_type": "stream",
     "text": [
      "3\n",
      "5\n",
      "6\n",
      "9\n",
      "10\n",
      "12\n",
      "15\n",
      "18\n",
      "20\n",
      "21\n",
      "24\n",
      "25\n",
      "27\n",
      "30\n",
      "33\n",
      "35\n",
      "36\n",
      "39\n",
      "40\n",
      "42\n",
      "45\n",
      "48\n",
      "50\n"
     ]
    }
   ],
   "source": [
    "for i in range (1,51):\n",
    "    if i%5==0 or i%3==0:\n",
    "        print(i)\n",
    "    else:\n",
    "        continue"
   ]
  },
  {
   "cell_type": "markdown",
   "id": "1406e768-623b-47e0-b217-b4a4f283b6e2",
   "metadata": {},
   "source": [
    "### 96. Positive Number Sum: Write a Python program that takes positive numbers as input until a negative number is entered. Then, calculate and print the sum of all positive numbers entered. Use a `while` loop and `break` to exit the loop when a negative number is encountered."
   ]
  },
  {
   "cell_type": "code",
   "execution_count": 12,
   "id": "c1cf89cc-9f5b-4be1-87b3-24bad2403811",
   "metadata": {},
   "outputs": [
    {
     "name": "stdin",
     "output_type": "stream",
     "text": [
      "Input a number:  6\n",
      "Input a number:  7\n",
      "Input a number:  4\n",
      "Input a number:  7\n",
      "Input a number:  -6\n"
     ]
    },
    {
     "name": "stdout",
     "output_type": "stream",
     "text": [
      "24\n"
     ]
    }
   ],
   "source": [
    "sum=0\n",
    "while(1):\n",
    "    n=int(input(\"Input a number: \"))\n",
    "    if n<0:\n",
    "        break\n",
    "    sum=sum+n\n",
    "print(sum) "
   ]
  },
  {
   "cell_type": "markdown",
   "id": "5b3996bc-af96-4ca8-abba-2ff05f35043a",
   "metadata": {},
   "source": [
    "### 97. Word Palindrome Checker: Write a Python program that takes a word as input and checks if it is a palindrome (reads the same forwards and backward). Use `continue` to skip checking the word if its length is less than 3 characters."
   ]
  },
  {
   "cell_type": "code",
   "execution_count": 13,
   "id": "6a7158dc-a378-4b84-93e6-88d2052039cf",
   "metadata": {},
   "outputs": [
    {
     "name": "stdin",
     "output_type": "stream",
     "text": [
      "Enter a string:  racecar\n"
     ]
    },
    {
     "name": "stdout",
     "output_type": "stream",
     "text": [
      "racecar  is a palindrome \n"
     ]
    },
    {
     "name": "stdin",
     "output_type": "stream",
     "text": [
      "Enter a string:  hello\n"
     ]
    },
    {
     "name": "stdout",
     "output_type": "stream",
     "text": [
      "hello  is not a palindrome \n"
     ]
    },
    {
     "ename": "KeyboardInterrupt",
     "evalue": "Interrupted by user",
     "output_type": "error",
     "traceback": [
      "\u001b[1;31m---------------------------------------------------------------------------\u001b[0m",
      "\u001b[1;31mKeyboardInterrupt\u001b[0m                         Traceback (most recent call last)",
      "Cell \u001b[1;32mIn[13], line 2\u001b[0m\n\u001b[0;32m      1\u001b[0m \u001b[38;5;28;01mwhile\u001b[39;00m(\u001b[38;5;241m1\u001b[39m):\n\u001b[1;32m----> 2\u001b[0m     string\u001b[38;5;241m=\u001b[39m\u001b[38;5;28minput\u001b[39m(\u001b[38;5;124m\"\u001b[39m\u001b[38;5;124mEnter a string: \u001b[39m\u001b[38;5;124m\"\u001b[39m)\n\u001b[0;32m      3\u001b[0m     \u001b[38;5;28;01mif\u001b[39;00m \u001b[38;5;28mlen\u001b[39m(string)\u001b[38;5;241m<\u001b[39m\u001b[38;5;241m3\u001b[39m:\n\u001b[0;32m      4\u001b[0m         \u001b[38;5;28;01mcontinue\u001b[39;00m\n",
      "File \u001b[1;32m~\\miniconda3\\Lib\\site-packages\\ipykernel\\kernelbase.py:1262\u001b[0m, in \u001b[0;36mKernel.raw_input\u001b[1;34m(self, prompt)\u001b[0m\n\u001b[0;32m   1260\u001b[0m     msg \u001b[38;5;241m=\u001b[39m \u001b[38;5;124m\"\u001b[39m\u001b[38;5;124mraw_input was called, but this frontend does not support input requests.\u001b[39m\u001b[38;5;124m\"\u001b[39m\n\u001b[0;32m   1261\u001b[0m     \u001b[38;5;28;01mraise\u001b[39;00m StdinNotImplementedError(msg)\n\u001b[1;32m-> 1262\u001b[0m \u001b[38;5;28;01mreturn\u001b[39;00m \u001b[38;5;28mself\u001b[39m\u001b[38;5;241m.\u001b[39m_input_request(\n\u001b[0;32m   1263\u001b[0m     \u001b[38;5;28mstr\u001b[39m(prompt),\n\u001b[0;32m   1264\u001b[0m     \u001b[38;5;28mself\u001b[39m\u001b[38;5;241m.\u001b[39m_parent_ident[\u001b[38;5;124m\"\u001b[39m\u001b[38;5;124mshell\u001b[39m\u001b[38;5;124m\"\u001b[39m],\n\u001b[0;32m   1265\u001b[0m     \u001b[38;5;28mself\u001b[39m\u001b[38;5;241m.\u001b[39mget_parent(\u001b[38;5;124m\"\u001b[39m\u001b[38;5;124mshell\u001b[39m\u001b[38;5;124m\"\u001b[39m),\n\u001b[0;32m   1266\u001b[0m     password\u001b[38;5;241m=\u001b[39m\u001b[38;5;28;01mFalse\u001b[39;00m,\n\u001b[0;32m   1267\u001b[0m )\n",
      "File \u001b[1;32m~\\miniconda3\\Lib\\site-packages\\ipykernel\\kernelbase.py:1305\u001b[0m, in \u001b[0;36mKernel._input_request\u001b[1;34m(self, prompt, ident, parent, password)\u001b[0m\n\u001b[0;32m   1302\u001b[0m \u001b[38;5;28;01mexcept\u001b[39;00m \u001b[38;5;167;01mKeyboardInterrupt\u001b[39;00m:\n\u001b[0;32m   1303\u001b[0m     \u001b[38;5;66;03m# re-raise KeyboardInterrupt, to truncate traceback\u001b[39;00m\n\u001b[0;32m   1304\u001b[0m     msg \u001b[38;5;241m=\u001b[39m \u001b[38;5;124m\"\u001b[39m\u001b[38;5;124mInterrupted by user\u001b[39m\u001b[38;5;124m\"\u001b[39m\n\u001b[1;32m-> 1305\u001b[0m     \u001b[38;5;28;01mraise\u001b[39;00m \u001b[38;5;167;01mKeyboardInterrupt\u001b[39;00m(msg) \u001b[38;5;28;01mfrom\u001b[39;00m \u001b[38;5;28;01mNone\u001b[39;00m\n\u001b[0;32m   1306\u001b[0m \u001b[38;5;28;01mexcept\u001b[39;00m \u001b[38;5;167;01mException\u001b[39;00m:\n\u001b[0;32m   1307\u001b[0m     \u001b[38;5;28mself\u001b[39m\u001b[38;5;241m.\u001b[39mlog\u001b[38;5;241m.\u001b[39mwarning(\u001b[38;5;124m\"\u001b[39m\u001b[38;5;124mInvalid Message:\u001b[39m\u001b[38;5;124m\"\u001b[39m, exc_info\u001b[38;5;241m=\u001b[39m\u001b[38;5;28;01mTrue\u001b[39;00m)\n",
      "\u001b[1;31mKeyboardInterrupt\u001b[0m: Interrupted by user"
     ]
    }
   ],
   "source": [
    "while(1):\n",
    "    string=input(\"Enter a string: \")\n",
    "    if len(string)<3:\n",
    "        continue\n",
    "    new=string[::-1]\n",
    "    if(string==new):\n",
    "        print(string, \" is a palindrome \")\n",
    "    else:\n",
    "        print(string, \" is not a palindrome \")"
   ]
  },
  {
   "cell_type": "markdown",
   "id": "760e564c-cf70-4f9f-92ca-91df9cc354cd",
   "metadata": {},
   "source": [
    "### 98. Odd Number Finder: Write a Python program to find the first odd number from a list of integers. Use a `for` loop and `break` to stop the loop when the first odd number is found."
   ]
  },
  {
   "cell_type": "code",
   "execution_count": 14,
   "id": "853591b4-fede-42e0-b1fe-a349b83475bc",
   "metadata": {},
   "outputs": [
    {
     "name": "stdout",
     "output_type": "stream",
     "text": [
      "First odd number found! 3\n"
     ]
    }
   ],
   "source": [
    "li=[2,4,6,8,3,6]\n",
    "for i in li:\n",
    "    if i%2!=0:\n",
    "        print(\"First odd number found! {}\".format(i))\n",
    "        break"
   ]
  },
  {
   "cell_type": "markdown",
   "id": "155e88e4-6614-4d9c-b61d-ecd2194503f0",
   "metadata": {},
   "source": [
    "### 99.Number Guessing Game: Write a Python program that generates a random number between 1 and 100 and lets the user guess the number. Use a `while` loop, `break` when the correct number is guessed, and `continue` to keep prompting the user until they guess correctly."
   ]
  },
  {
   "cell_type": "code",
   "execution_count": 15,
   "id": "d5c5bd55-3115-480a-85fd-31cfdb8c563d",
   "metadata": {},
   "outputs": [
    {
     "name": "stdin",
     "output_type": "stream",
     "text": [
      "Guess the number (between 1 and 100):  45\n"
     ]
    },
    {
     "name": "stdout",
     "output_type": "stream",
     "text": [
      "Too high! Try again.\n"
     ]
    },
    {
     "name": "stdin",
     "output_type": "stream",
     "text": [
      "Guess the number (between 1 and 100):  23\n"
     ]
    },
    {
     "name": "stdout",
     "output_type": "stream",
     "text": [
      "Too low! Try again.\n"
     ]
    },
    {
     "name": "stdin",
     "output_type": "stream",
     "text": [
      "Guess the number (between 1 and 100):  34\n"
     ]
    },
    {
     "name": "stdout",
     "output_type": "stream",
     "text": [
      "Too low! Try again.\n"
     ]
    },
    {
     "name": "stdin",
     "output_type": "stream",
     "text": [
      "Guess the number (between 1 and 100):  38\n"
     ]
    },
    {
     "name": "stdout",
     "output_type": "stream",
     "text": [
      "Too low! Try again.\n"
     ]
    },
    {
     "name": "stdin",
     "output_type": "stream",
     "text": [
      "Guess the number (between 1 and 100):  42\n"
     ]
    },
    {
     "name": "stdout",
     "output_type": "stream",
     "text": [
      "Too high! Try again.\n"
     ]
    },
    {
     "name": "stdin",
     "output_type": "stream",
     "text": [
      "Guess the number (between 1 and 100):  41\n"
     ]
    },
    {
     "name": "stdout",
     "output_type": "stream",
     "text": [
      "Too high! Try again.\n"
     ]
    },
    {
     "name": "stdin",
     "output_type": "stream",
     "text": [
      "Guess the number (between 1 and 100):  40\n"
     ]
    },
    {
     "name": "stdout",
     "output_type": "stream",
     "text": [
      "Too high! Try again.\n"
     ]
    },
    {
     "name": "stdin",
     "output_type": "stream",
     "text": [
      "Guess the number (between 1 and 100):  39\n"
     ]
    },
    {
     "name": "stdout",
     "output_type": "stream",
     "text": [
      "Congratulations! You guessed the number 39 correctly in 0 guesses.\n"
     ]
    }
   ],
   "source": [
    "import random \n",
    "n=random.randint(1,100)\n",
    "num=0\n",
    "while True:\n",
    "    i=int(input(\"Guess the number (between 1 and 100): \"))\n",
    "    if i == n:\n",
    "        print(\"Congratulations! You guessed the number {} correctly in {} guesses.\".format(n,num))\n",
    "        break\n",
    "    elif i < n:\n",
    "        print(\"Too low! Try again.\")\n",
    "        continue\n",
    "    else:\n",
    "        print(\"Too high! Try again.\")\n",
    "        continue\n",
    "    num=num+1"
   ]
  },
  {
   "cell_type": "markdown",
   "id": "ce555c57-d2bc-4070-aefc-57038187cbdf",
   "metadata": {},
   "source": [
    "###  100. Vowel Counter: Write a Python program that takes a string as input and counts the number of vowels (a, e, i, o, u) in it. Use a `for` loop and `continue` to skip counting non-vowel characters."
   ]
  },
  {
   "cell_type": "code",
   "execution_count": 20,
   "id": "d919de87-1dc5-40f0-8d91-42d5553fe525",
   "metadata": {},
   "outputs": [
    {
     "name": "stdin",
     "output_type": "stream",
     "text": [
      "Enter a string: hello\n"
     ]
    },
    {
     "name": "stdout",
     "output_type": "stream",
     "text": [
      "2\n"
     ]
    }
   ],
   "source": [
    "l=input(\"Enter a string:\")\n",
    "count=0\n",
    "for ch in l:\n",
    "    if(ch == 'a' or ch == 'e' or ch == 'i' or ch == 'o' or ch == 'u' or ch == 'A' or ch == 'E' or ch == 'I' or ch == 'O' or ch == 'U'):\n",
    "        count=count+1\n",
    "    else:\n",
    "        continue\n",
    "print(count)"
   ]
  },
  {
   "cell_type": "markdown",
   "id": "81c8a4db-1d18-4390-b2ac-b0930d2ff8b4",
   "metadata": {},
   "source": [
    "### 101. Unique Characters: Write a Python program that takes a string as input and checks if it contains all unique characters (no character repeats). Use a `for` loop and `break` when a character repeats"
   ]
  },
  {
   "cell_type": "code",
   "execution_count": 22,
   "id": "50b2ef7c-9da2-4c35-8500-77d1c069427d",
   "metadata": {},
   "outputs": [
    {
     "name": "stdin",
     "output_type": "stream",
     "text": [
      "Enter a string: hello\n"
     ]
    },
    {
     "name": "stdout",
     "output_type": "stream",
     "text": [
      "Character l repeated\n"
     ]
    }
   ],
   "source": [
    "set_=set()\n",
    "l=input(\"Enter a string:\")\n",
    "for i in l:\n",
    "    if i in set_:\n",
    "        print(\"Character {} repeated\".format(i))\n",
    "        break\n",
    "    set_.add(i)"
   ]
  },
  {
   "cell_type": "markdown",
   "id": "dad17013-91f9-413f-8225-f2203827025e",
   "metadata": {},
   "source": [
    "### 102. Factorial Calculator: Write a Python function called `factorial` that takes an integer as input and returns its factorial. Test the function with different values"
   ]
  },
  {
   "cell_type": "code",
   "execution_count": 24,
   "id": "e8702c26-6b87-433b-a12b-b2b679b163fe",
   "metadata": {},
   "outputs": [
    {
     "name": "stdout",
     "output_type": "stream",
     "text": [
      "24\n",
      "120\n",
      "720\n"
     ]
    }
   ],
   "source": [
    "def factorial(n):\n",
    "    f=1;\n",
    "    for i in range (n):\n",
    "        f=f*(i+1)\n",
    "    return f\n",
    "print(factorial(4))\n",
    "print(factorial(5))\n",
    "print(factorial(6))"
   ]
  },
  {
   "cell_type": "markdown",
   "id": "ba071f59-d169-45e7-971b-2e464f945474",
   "metadata": {},
   "source": [
    "### 103. Palindrome Checker: Write a Python function called `is_palindrome` that takes a string as input and returns `True` if it is a palindrome and `False` otherwise. Test the function with different words."
   ]
  },
  {
   "cell_type": "code",
   "execution_count": 27,
   "id": "4f67a7d8-4aea-4af3-a77c-9fd2c61d848e",
   "metadata": {},
   "outputs": [
    {
     "name": "stdout",
     "output_type": "stream",
     "text": [
      "True\n",
      "False\n",
      "True\n"
     ]
    }
   ],
   "source": [
    "def is_palindrome(string):\n",
    "    new=string[::-1]\n",
    "    if(string==new):\n",
    "        return True\n",
    "    else:\n",
    "        return False\n",
    "print(is_palindrome(\"racecar\"))\n",
    "print(is_palindrome(\"Hello\"))\n",
    "print(is_palindrome(\"abssba\"))"
   ]
  },
  {
   "cell_type": "markdown",
   "id": "7e198837-c52d-467e-9b0d-01dec30cc762",
   "metadata": {},
   "source": [
    "### 104. Even or Odd Checker: Write a Python function called `even_or_odd` that takes an integer as input and returns “Even” if the number is even and “Odd” if the number is odd. Test the function with different numbers."
   ]
  },
  {
   "cell_type": "code",
   "execution_count": 28,
   "id": "4da0c2e3-fd87-4de7-8690-2599ba2fab5c",
   "metadata": {},
   "outputs": [
    {
     "name": "stdout",
     "output_type": "stream",
     "text": [
      "Even\n",
      "Odd\n",
      "Odd\n",
      "Even\n"
     ]
    }
   ],
   "source": [
    "def even_or_odd(n):\n",
    "    if n%2!=0:\n",
    "        return \"Odd\"\n",
    "    else:\n",
    "        return \"Even\"\n",
    "print(even_or_odd(4))\n",
    "print(even_or_odd(5))\n",
    "print(even_or_odd(89))\n",
    "print(even_or_odd(66))"
   ]
  },
  {
   "cell_type": "markdown",
   "id": "99a64388-b81d-416f-a20f-fcefc3b4fe62",
   "metadata": {},
   "source": [
    "### 105. List Sum Calculator: Write a Python function called `list_sum` that takes a list of integers as input and returns the sum of all elements in the list. Test the function with different lists."
   ]
  },
  {
   "cell_type": "code",
   "execution_count": 31,
   "id": "0f285122-5d66-4224-8137-69a0de621abe",
   "metadata": {},
   "outputs": [
    {
     "name": "stdout",
     "output_type": "stream",
     "text": [
      "Sum of elements in list1: 15\n",
      "Sum of elements in list2: 150\n",
      "Sum of elements in list3: -15\n"
     ]
    }
   ],
   "source": [
    "def list_sum(input_list):\n",
    "    sum=0\n",
    "    for i in input_list:\n",
    "        sum=sum+i\n",
    "    return sum\n",
    "\n",
    "# Test the function with different lists\n",
    "list1 = [1, 2, 3, 4, 5]\n",
    "list2 = [10, 20, 30, 40, 50]\n",
    "list3 = [-1, -2, -3, -4, -5]\n",
    "\n",
    "print(\"Sum of elements in list1:\", list_sum(list1))\n",
    "print(\"Sum of elements in list2:\", list_sum(list2))\n",
    "print(\"Sum of elements in list3:\", list_sum(list3))"
   ]
  },
  {
   "cell_type": "markdown",
   "id": "d766e8e1-8602-4dd5-916f-ed39de204368",
   "metadata": {},
   "source": [
    "### 106. Greatest Common Divisor (GCD) Calculator: Write a Python function called `gcd` that takes two integers as input and returns their greatest common divisor. Test the function with different pairs of numbers."
   ]
  },
  {
   "cell_type": "code",
   "execution_count": 33,
   "id": "8c3b427b-7f5b-49c2-866b-3182173ee0a4",
   "metadata": {},
   "outputs": [
    {
     "name": "stdout",
     "output_type": "stream",
     "text": [
      "1\n",
      "1\n",
      "25\n"
     ]
    }
   ],
   "source": [
    "def gcd(a,b):\n",
    "    real_a=a\n",
    "    real_b=b\n",
    "    if(a>b):\n",
    "        while (1):\n",
    "            if(a%b==0):\n",
    "                return b\n",
    "                break\n",
    "            else:\n",
    "                c=a%b\n",
    "                a=b\n",
    "                b=c\n",
    "    else:\n",
    "        while (1):\n",
    "            if(b%a==0):\n",
    "                return a\n",
    "                break\n",
    "            else:\n",
    "                c=b%a\n",
    "                a=c\n",
    "                b=a\n",
    "print(gcd(15,14))\n",
    "print(gcd(55,24))\n",
    "print(gcd(25,50))"
   ]
  },
  {
   "cell_type": "markdown",
   "id": "0bbbc1fc-5f83-47cf-b3e9-02993a9a5819",
   "metadata": {},
   "source": [
    "### 107. Leap Year Checker: Write a Python function called `is_leap_year` that takes a year as input and returns `True` if it is a leap year and `False` otherwise. Test the function with different years."
   ]
  },
  {
   "cell_type": "code",
   "execution_count": 35,
   "id": "5b277161-a7ff-459e-b688-df7871d18d90",
   "metadata": {},
   "outputs": [
    {
     "name": "stdout",
     "output_type": "stream",
     "text": [
      "True\n",
      "False\n",
      "False\n"
     ]
    }
   ],
   "source": [
    "def is_leap_year(year):\n",
    "    if (year%400==0) or ((year%4==0) and (year%100!=0)):\n",
    "        return True\n",
    "    else:\n",
    "        return False\n",
    "print(is_leap_year(2024))\n",
    "print(is_leap_year(2034))\n",
    "print(is_leap_year(3000))"
   ]
  },
  {
   "cell_type": "markdown",
   "id": "2953a4e8-a13a-4c7b-b0a5-84e8662fe8f6",
   "metadata": {},
   "source": [
    "### 108. Math Operations: Write a Python function called `math_operations` that takes three numbers and a string representing an operation (‘add’, ‘subtract’, ‘multiply’, or ‘divide’). The function should return the result of the specified operation on the three numbers. Implement the math operations as nested functions."
   ]
  },
  {
   "cell_type": "code",
   "execution_count": 36,
   "id": "1c02a6cc-2cbb-43f4-b55e-fe2de1fe4cf8",
   "metadata": {},
   "outputs": [
    {
     "name": "stdout",
     "output_type": "stream",
     "text": [
      "Result of addition: 18\n",
      "Result of subtraction: 2\n",
      "Result of multiplication: 150\n",
      "Result of division: 1.0\n"
     ]
    }
   ],
   "source": [
    "def math_operations(num1, num2, num3, operation):\n",
    "    def add(x, y, z):\n",
    "        return x + y + z\n",
    "\n",
    "    def subtract(x, y, z):\n",
    "        return x - y - z\n",
    "\n",
    "    def multiply(x, y, z):\n",
    "        return x * y * z\n",
    "\n",
    "    def divide(x, y, z):\n",
    "        if y == 0 or z == 0:\n",
    "            return \"Cannot divide by zero\"\n",
    "        return x / y / z\n",
    "\n",
    "    # Call the appropriate nested function based on the operation\n",
    "    if operation == 'add':\n",
    "        return add(num1, num2, num3)\n",
    "    elif operation == 'subtract':\n",
    "        return subtract(num1, num2, num3)\n",
    "    elif operation == 'multiply':\n",
    "        return multiply(num1, num2, num3)\n",
    "    elif operation == 'divide':\n",
    "        return divide(num1, num2, num3)\n",
    "    else:\n",
    "        return \"Invalid operation\"\n",
    "\n",
    "# Test the function with different inputs\n",
    "result_add = math_operations(10, 5, 3, 'add')\n",
    "result_subtract = math_operations(10, 5, 3, 'subtract')\n",
    "result_multiply = math_operations(10, 5, 3, 'multiply')\n",
    "result_divide = math_operations(10, 5, 2, 'divide')\n",
    "\n",
    "print(\"Result of addition:\", result_add)\n",
    "print(\"Result of subtraction:\", result_subtract)\n",
    "print(\"Result of multiplication:\", result_multiply)\n",
    "print(\"Result of division:\", result_divide)\n"
   ]
  },
  {
   "cell_type": "markdown",
   "id": "77c161cf-5ce3-4166-a6a0-3d2d02362d1e",
   "metadata": {},
   "source": [
    "### 109. Greeting Generator: Write a Python function called `greeting_generator` that takes a name as input and returns a greeting message using nested functions. The greeting message should be customizable (e.g., “Hello, {name}! How are you today?”)."
   ]
  },
  {
   "cell_type": "code",
   "execution_count": 37,
   "id": "791bfc2c-9497-4cde-84c5-28a82fbd8f29",
   "metadata": {},
   "outputs": [
    {
     "name": "stdin",
     "output_type": "stream",
     "text": [
      "Enter your name:  ramisha\n"
     ]
    },
    {
     "name": "stdout",
     "output_type": "stream",
     "text": [
      "Hello, ramisha! How are you today?\n"
     ]
    }
   ],
   "source": [
    "def greeting_generator(name):\n",
    "    def generate_greeting():\n",
    "        return f\"Hello, {name}! How are you today?\"\n",
    "\n",
    "    return generate_greeting()\n",
    "\n",
    "# Test the function with a name\n",
    "name = input(\"Enter your name: \")\n",
    "greeting_message = greeting_generator(name)\n",
    "print(greeting_message)"
   ]
  },
  {
   "cell_type": "markdown",
   "id": "b35d2b39-62d6-46bf-a799-35819f1be914",
   "metadata": {},
   "source": [
    "### 110. Temperature Converter: Write a Python function called `temperature_converter` that takes a temperature value and a string representing the scale (‘C’ for Celsius or ‘F’ for Fahrenheit) as input. The function should convert the temperature from one scale to the other using nested functions and return the converted value"
   ]
  },
  {
   "cell_type": "code",
   "execution_count": 38,
   "id": "c404b057-8273-4616-8049-9842811f65d9",
   "metadata": {},
   "outputs": [
    {
     "name": "stdin",
     "output_type": "stream",
     "text": [
      "Enter temperature in Celsius:  45\n"
     ]
    },
    {
     "name": "stdout",
     "output_type": "stream",
     "text": [
      "Converted temperature in Fahrenheit: 113.0\n"
     ]
    },
    {
     "name": "stdin",
     "output_type": "stream",
     "text": [
      "Enter temperature in Fahrenheit:  113\n"
     ]
    },
    {
     "name": "stdout",
     "output_type": "stream",
     "text": [
      "Converted temperature in Celsius: 45.0\n"
     ]
    }
   ],
   "source": [
    "def temperature_converter(temperature, scale):\n",
    "    def celsius_to_fahrenheit(celsius):\n",
    "        return (celsius * 9/5) + 32\n",
    "\n",
    "    def fahrenheit_to_celsius(fahrenheit):\n",
    "        return (fahrenheit - 32) * 5/9\n",
    "\n",
    "    if scale == 'C':\n",
    "        return celsius_to_fahrenheit(temperature)\n",
    "    elif scale == 'F':\n",
    "        return fahrenheit_to_celsius(temperature)\n",
    "    else:\n",
    "        return \"Invalid scale. Please enter 'C' for Celsius or 'F' for Fahrenheit.\"\n",
    "\n",
    "# Test the function with different inputs\n",
    "temperature_celsius = float(input(\"Enter temperature in Celsius: \"))\n",
    "converted_temperature_fahrenheit = temperature_converter(temperature_celsius, 'C')\n",
    "print(\"Converted temperature in Fahrenheit:\", converted_temperature_fahrenheit)\n",
    "\n",
    "temperature_fahrenheit = float(input(\"Enter temperature in Fahrenheit: \"))\n",
    "converted_temperature_celsius = temperature_converter(temperature_fahrenheit, 'F')\n",
    "print(\"Converted temperature in Celsius:\", converted_temperature_celsius)"
   ]
  },
  {
   "cell_type": "markdown",
   "id": "bd498b70-7ce8-43e0-9f24-db23cf551673",
   "metadata": {},
   "source": [
    "### 111. Factorial Calculation: Write a recursive Python function called `factorial` that takes a non-negative integer as input and returns its factorial."
   ]
  },
  {
   "cell_type": "code",
   "execution_count": 43,
   "id": "42c70425-f919-48b2-9605-cc2310f938fc",
   "metadata": {},
   "outputs": [
    {
     "data": {
      "text/plain": [
       "120"
      ]
     },
     "execution_count": 43,
     "metadata": {},
     "output_type": "execute_result"
    }
   ],
   "source": [
    "def factorial(n):\n",
    "    if n==1:\n",
    "        return 1\n",
    "    return n*factorial(n-1)\n",
    "factorial(5)"
   ]
  },
  {
   "cell_type": "markdown",
   "id": "87ce44a0-f67b-45c5-b3b7-dcad9a18d3c8",
   "metadata": {},
   "source": [
    "### 112. Fibonacci Series: Write a recursive Python function called `Fibonacci` that takes an integer N as input and returns the Nth number in the Fibonacci series. The Fibonacci series is defined as follows: F(0) = 0, F(1) = 1, and F(n) = F(n-1) + F(n-2) for n > 1."
   ]
  },
  {
   "cell_type": "code",
   "execution_count": 49,
   "id": "4431b1cf-e4c5-4b3f-8609-03f04de5ecfa",
   "metadata": {},
   "outputs": [
    {
     "name": "stdin",
     "output_type": "stream",
     "text": [
      "Enter the value of N:  8\n"
     ]
    },
    {
     "name": "stdout",
     "output_type": "stream",
     "text": [
      "The 8 th number in the Fibonacci series is: 21\n"
     ]
    }
   ],
   "source": [
    "def fibonacci(n):\n",
    "    if n == 0:\n",
    "        return 0\n",
    "    elif n == 1:\n",
    "        return 1\n",
    "    else:\n",
    "        return fibonacci(n - 1) + fibonacci(n - 2)\n",
    "\n",
    "N = int(input(\"Enter the value of N: \"))\n",
    "if N < 0:\n",
    "    print(\"Please enter a non-negative integer.\")\n",
    "else:\n",
    "    print(\"The\", N, \"th number in the Fibonacci series is:\", fibonacci(N))\n",
    "\n",
    "    "
   ]
  },
  {
   "cell_type": "markdown",
   "id": "e6632322-9cab-45a7-baa1-523546b0e889",
   "metadata": {},
   "source": [
    "### 113. The sum of Digits: Write a recursive Python function called `sum_of_digits` that takes an integer as input and returns the sum of its digits."
   ]
  },
  {
   "cell_type": "code",
   "execution_count": 47,
   "id": "1f5d04d4-97a5-49a2-8f15-e05334a7c2e7",
   "metadata": {},
   "outputs": [
    {
     "data": {
      "text/plain": [
       "6"
      ]
     },
     "execution_count": 47,
     "metadata": {},
     "output_type": "execute_result"
    }
   ],
   "source": [
    "def sum_of_digits(n):\n",
    "    if n==0:\n",
    "        return 0\n",
    "    return n%10+sum_of_digits(int(n/10))\n",
    "sum_of_digits(123)"
   ]
  },
  {
   "cell_type": "markdown",
   "id": "52886afd-b589-4b96-807a-0c9cf846f7eb",
   "metadata": {},
   "source": [
    "### 114. Binary Search: Write a recursive Python function called `binary_search` that takes a sorted list and a target value as input and returns the index of the target value in the list using binary search. If the target value is not in the list, return -1."
   ]
  },
  {
   "cell_type": "code",
   "execution_count": 52,
   "id": "8f16bf30-9763-41b8-96de-36b76b7daf22",
   "metadata": {},
   "outputs": [
    {
     "name": "stdin",
     "output_type": "stream",
     "text": [
      "Enter the target value to search for:  5\n"
     ]
    },
    {
     "name": "stdout",
     "output_type": "stream",
     "text": [
      "The target value 5 is found at index 2.\n"
     ]
    }
   ],
   "source": [
    "def binary_search(sorted_list, target):\n",
    "    def binary_search_recursive(sorted_list, target, low, high):\n",
    "        if low <= high:\n",
    "            mid = (low + high) // 2\n",
    "            if sorted_list[mid] == target:\n",
    "                return mid\n",
    "            elif sorted_list[mid] < target:\n",
    "                return binary_search_recursive(sorted_list, target, mid + 1, high)\n",
    "            else:\n",
    "                return binary_search_recursive(sorted_list, target, low, mid - 1)\n",
    "        else:\n",
    "            return -1\n",
    "\n",
    "    # Call the recursive function with initial low and high indices\n",
    "    return binary_search_recursive(sorted_list, target, 0, len(sorted_list) - 1)\n",
    "\n",
    "# Test the function\n",
    "sorted_list = [1, 3, 5, 7, 9, 11, 13, 15, 17, 19]\n",
    "target = int(input(\"Enter the target value to search for: \"))\n",
    "index = binary_search(sorted_list, target)\n",
    "if index != -1:\n",
    "    print(f\"The target value {target} is found at index {index}.\")\n",
    "else:\n",
    "    print(\"The target value is not in the list.\")\n"
   ]
  },
  {
   "cell_type": "markdown",
   "id": "14da69ad-082b-4eb1-9e7f-17c896ae7d5c",
   "metadata": {},
   "source": [
    "### 115. Power Calculation: Write a recursive Python function called `power` that takes two positive integers, base and exponent, as input and returns the value of base raised to the exponent."
   ]
  },
  {
   "cell_type": "code",
   "execution_count": 51,
   "id": "f4bd7b19-dc0f-41a4-934b-c04c672b0f58",
   "metadata": {},
   "outputs": [
    {
     "data": {
      "text/plain": [
       "8"
      ]
     },
     "execution_count": 51,
     "metadata": {},
     "output_type": "execute_result"
    }
   ],
   "source": [
    "def power(a,b):\n",
    "    if b==0:\n",
    "        return 1\n",
    "    return a*power(a,b-1)\n",
    "power(2,3)"
   ]
  }
 ],
 "metadata": {
  "kernelspec": {
   "display_name": "Python 3 (ipykernel)",
   "language": "python",
   "name": "python3"
  },
  "language_info": {
   "codemirror_mode": {
    "name": "ipython",
    "version": 3
   },
   "file_extension": ".py",
   "mimetype": "text/x-python",
   "name": "python",
   "nbconvert_exporter": "python",
   "pygments_lexer": "ipython3",
   "version": "3.11.4"
  }
 },
 "nbformat": 4,
 "nbformat_minor": 5
}
